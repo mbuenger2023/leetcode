{
 "cells": [
  {
   "cell_type": "markdown",
   "id": "ab35455f",
   "metadata": {},
   "source": [
    "https://leetcode.com/explore/interview/card/top-interview-questions-easy/"
   ]
  },
  {
   "cell_type": "markdown",
   "id": "9a16d472",
   "metadata": {},
   "source": [
    "# Big-O time Complexity"
   ]
  },
  {
   "cell_type": "markdown",
   "id": "b3549237",
   "metadata": {},
   "source": [
    "* O(1): Constant time: a value at a particular index from an array\n",
    "* O(logN): Logarithmic time: binary search on a sorted array\n",
    "* O(N): Linear time. Using a for-loop to traverse through an array\n",
    "* O(NlogN): Log-linear time. running merge sort on an array\n",
    "* O(N^2): Quadratic time. Iterating over every pair of elements in an array using double for-loop\n",
    "* O(2^N): Expoential time. Recursively generating all binary numbers that are N digits long\n",
    "* O(N!): Factorial time: Factorial time. Generating all permutations of an array"
   ]
  },
  {
   "cell_type": "markdown",
   "id": "d374940c",
   "metadata": {},
   "source": [
    "# Basic Syntax"
   ]
  },
  {
   "cell_type": "markdown",
   "id": "b66e4d6f",
   "metadata": {},
   "source": [
    "## List Comprehension"
   ]
  },
  {
   "cell_type": "code",
   "execution_count": null,
   "id": "163e8090",
   "metadata": {},
   "outputs": [],
   "source": [
    "newlist = [expression for item in iterable if condition == True]"
   ]
  },
  {
   "cell_type": "markdown",
   "id": "698a8be9",
   "metadata": {},
   "source": [
    "## Continue/Break Statements"
   ]
  },
  {
   "cell_type": "code",
   "execution_count": 37,
   "id": "ba75d911",
   "metadata": {},
   "outputs": [
    {
     "name": "stdout",
     "output_type": "stream",
     "text": [
      "Who are you?\n",
      "swordfish\n",
      "Who are you?\n",
      "It is a fish.\n",
      "Who are you?\n",
      "Joe\n",
      "Hello, Joe. What is the password? (It is a fish.)\n",
      "swordfish\n",
      "Access granted.\n"
     ]
    }
   ],
   "source": [
    "while True:\n",
    "    print('Who are you?')\n",
    "    name = input()\n",
    "    if name != 'Joe':\n",
    "        continue\n",
    "    print('Hello, Joe. What is the password? (It is a fish.)')\n",
    "    password = input()\n",
    "    if password == 'swordfish':\n",
    "        break\n",
    "print('Access granted.')"
   ]
  },
  {
   "cell_type": "markdown",
   "id": "1f49fc87",
   "metadata": {},
   "source": [
    "## Try/Exception"
   ]
  },
  {
   "cell_type": "code",
   "execution_count": 80,
   "id": "b9047de0",
   "metadata": {},
   "outputs": [
    {
     "name": "stdout",
     "output_type": "stream",
     "text": [
      "Error: Invalid argument: division by zero\n",
      "42.0 None\n"
     ]
    }
   ],
   "source": [
    "def spam(divideBy):\n",
    "    try:\n",
    "        return 42 / divideBy\n",
    "    except ZeroDivisionError as e:    ## ZeroDivisionError is a function in python\n",
    "        print('Error: Invalid argument: {}'.format(e))\n",
    "print(spam(1), spam(0))"
   ]
  },
  {
   "cell_type": "markdown",
   "id": "32312348",
   "metadata": {},
   "source": [
    "'Finanlly' always execute"
   ]
  },
  {
   "cell_type": "code",
   "execution_count": 24,
   "id": "d99be5bc",
   "metadata": {},
   "outputs": [
    {
     "name": "stdout",
     "output_type": "stream",
     "text": [
      "-- division finished --\n",
      "Error: Invalid argument: division by zero\n",
      "-- division finished --\n",
      "42.0 None\n"
     ]
    }
   ],
   "source": [
    "def spam(divideBy):\n",
    "    try:\n",
    "        return 42 / divideBy\n",
    "    except ZeroDivisionError  as e: ## ZeroDivisionError is a function in python\n",
    "        print('Error: Invalid argument: {}'.format(e))\n",
    "    finally:\n",
    "        print(\"-- division finished --\")\n",
    "print(spam(1), spam(0))"
   ]
  },
  {
   "cell_type": "markdown",
   "id": "cbbabbb8",
   "metadata": {},
   "source": [
    "## Delete an element from a list"
   ]
  },
  {
   "cell_type": "code",
   "execution_count": 3,
   "id": "f04010e0",
   "metadata": {},
   "outputs": [],
   "source": [
    "spam = ['cat', 'bat', 'rat', 'elephant']\n",
    "del spam[2]"
   ]
  },
  {
   "cell_type": "markdown",
   "id": "5ea33001",
   "metadata": {},
   "source": [
    "## List->String & String->List"
   ]
  },
  {
   "cell_type": "code",
   "execution_count": 117,
   "id": "6d5b946d",
   "metadata": {},
   "outputs": [
    {
     "data": {
      "text/plain": [
       "list"
      ]
     },
     "execution_count": 117,
     "metadata": {},
     "output_type": "execute_result"
    }
   ],
   "source": [
    "list_to_string = ' '.join(list)\n",
    "string_to_list = string.split()"
   ]
  },
  {
   "cell_type": "markdown",
   "id": "c74f3ea6",
   "metadata": {},
   "source": [
    "## Using Loop in a list or multiple lists"
   ]
  },
  {
   "cell_type": "code",
   "execution_count": 43,
   "id": "e8026f20",
   "metadata": {},
   "outputs": [
    {
     "name": "stdout",
     "output_type": "stream",
     "text": [
      "Index 0 in supplies is: pens\n",
      "Index 1 in supplies is: staplers\n",
      "Index 2 in supplies is: flame-throwers\n",
      "Index 3 in supplies is: binders\n"
     ]
    }
   ],
   "source": [
    "supplies = ['pens', 'staplers', 'flame-throwers', 'binders']\n",
    "for i, supply in enumerate(supplies):\n",
    "    print('Index {} in supplies is: {}'.format(str(i), supply))"
   ]
  },
  {
   "cell_type": "code",
   "execution_count": 44,
   "id": "975d0924",
   "metadata": {},
   "outputs": [
    {
     "name": "stdout",
     "output_type": "stream",
     "text": [
      "Pete is 6 years old\n",
      "John is 23 years old\n",
      "Elizabeth is 44 years old\n"
     ]
    }
   ],
   "source": [
    "name = ['Pete', 'John', 'Elizabeth']\n",
    "age = [6, 23, 44]\n",
    "for n, a in zip(name, age):\n",
    "    print('{} is {} years old'.format(n, a))"
   ]
  },
  {
   "cell_type": "markdown",
   "id": "f673984e",
   "metadata": {},
   "source": [
    "## Raw Strings"
   ]
  },
  {
   "cell_type": "markdown",
   "id": "762d5b90",
   "metadata": {},
   "source": [
    "A raw string completely ignores all escape characters and prints any backslash that appears in the string."
   ]
  },
  {
   "cell_type": "code",
   "execution_count": 46,
   "id": "f2811df4",
   "metadata": {},
   "outputs": [
    {
     "name": "stdout",
     "output_type": "stream",
     "text": [
      "Hello there!\n",
      "How are you?\n",
      "I'm doing fine.\n",
      "That is Carol\\'s cat.\n"
     ]
    }
   ],
   "source": [
    "print(\"Hello there!\\nHow are you?\\nI\\'m doing fine.\")\n",
    "print(r'That is Carol\\'s cat.')"
   ]
  },
  {
   "cell_type": "markdown",
   "id": "d6581ffe",
   "metadata": {},
   "source": [
    "## Remove white space"
   ]
  },
  {
   "cell_type": "code",
   "execution_count": 48,
   "id": "949f4f77",
   "metadata": {},
   "outputs": [
    {
     "name": "stdout",
     "output_type": "stream",
     "text": [
      "Hello World\n",
      "Hello World     \n",
      "    Hello World\n"
     ]
    }
   ],
   "source": [
    "spam = '    Hello World     '\n",
    "print(spam.strip())\n",
    "print(spam.lstrip())\n",
    "print(spam.rstrip())"
   ]
  },
  {
   "cell_type": "markdown",
   "id": "19fc17db",
   "metadata": {},
   "source": [
    "# String Manipulation"
   ]
  },
  {
   "cell_type": "markdown",
   "id": "ce46ff0b",
   "metadata": {},
   "source": [
    "## Reverse"
   ]
  },
  {
   "cell_type": "markdown",
   "id": "ea56c4a0",
   "metadata": {},
   "source": [
    "### Reverse Interger"
   ]
  },
  {
   "cell_type": "code",
   "execution_count": 1,
   "id": "2ff088c2",
   "metadata": {},
   "outputs": [
    {
     "name": "stdout",
     "output_type": "stream",
     "text": [
      "-132\n",
      "543\n"
     ]
    }
   ],
   "source": [
    "# Given an integer, return the integer with reversed digits.\n",
    "# Note: The integer could be either positive or negative.\n",
    "\n",
    "def solution(x):\n",
    "    string = str(x)\n",
    "    \n",
    "    if string[0] == '-':\n",
    "        return int('-'+string[:0:-1]) ## string[:n:-1], remove the first n elements\n",
    "    else:\n",
    "        return int(string[::-1])\n",
    "    \n",
    "print(solution(-231))\n",
    "print(solution(345))"
   ]
  },
  {
   "cell_type": "markdown",
   "id": "d6da97c2",
   "metadata": {},
   "source": [
    "### Reverse String"
   ]
  },
  {
   "cell_type": "code",
   "execution_count": 27,
   "id": "fa73f2cf",
   "metadata": {},
   "outputs": [
    {
     "data": {
      "text/plain": [
       "'4321'"
      ]
     },
     "execution_count": 27,
     "metadata": {},
     "output_type": "execute_result"
    }
   ],
   "source": [
    "sentence = '1234'\n",
    "''.join(sentence[-i] for i in range(1, len(sentence)+1))"
   ]
  },
  {
   "cell_type": "code",
   "execution_count": 7,
   "id": "dd867db8",
   "metadata": {},
   "outputs": [
    {
     "data": {
      "text/plain": [
       "'edcba'"
      ]
     },
     "execution_count": 7,
     "metadata": {},
     "output_type": "execute_result"
    }
   ],
   "source": [
    "def reverse_string(s):\n",
    "    return s[::-1]\n",
    "reverse_string('abcde')"
   ]
  },
  {
   "cell_type": "markdown",
   "id": "93496ea5",
   "metadata": {},
   "source": [
    "### Reverse letters but keep the word orders"
   ]
  },
  {
   "cell_type": "code",
   "execution_count": 25,
   "id": "53e35785",
   "metadata": {},
   "outputs": [
    {
     "name": "stdout",
     "output_type": "stream",
     "text": [
      "I ekil ti\n"
     ]
    }
   ],
   "source": [
    "def reverse_words(s):\n",
    "    res = []\n",
    "    s_list = s.split()\n",
    "    for i in range(len(s_list)):\n",
    "        new = s_list[i][::-1]\n",
    "        res.append(new)\n",
    "    print(\" \".join(res))\n",
    "reverse_words(\"I like it\")"
   ]
  },
  {
   "cell_type": "code",
   "execution_count": 32,
   "id": "7454af7b",
   "metadata": {},
   "outputs": [
    {
     "data": {
      "text/plain": [
       "\"s'teL ekat edoCteeL tsetnoc\""
      ]
     },
     "execution_count": 32,
     "metadata": {},
     "output_type": "execute_result"
    }
   ],
   "source": [
    "def reverse_words(s):\n",
    "    result = \"\" \n",
    "    new = s.split(\" \")\n",
    "    for word in new: \n",
    "        word = word[::-1]+\" \"\n",
    "        result += word\n",
    "        \n",
    "    return result.rstrip() \n",
    "\n",
    "# test case\n",
    "reverse_words(s =\"Let's take LeetCode contest\")"
   ]
  },
  {
   "cell_type": "code",
   "execution_count": null,
   "id": "c9772f8a",
   "metadata": {},
   "outputs": [],
   "source": [
    "a[start:stop]  # items start through stop-1\n",
    "a[start:]      # items start through the rest of the array\n",
    "a[:stop]       # items from the beginning through stop-1\n",
    "a[:]           # a copy of the whole array\n",
    "a[-1]    # last item in the array\n",
    "a[-2:]   # last two items in the array\n",
    "a[:-2]   # everything except the last two items\n",
    "a[::-1]    # all items in the array, reversed\n",
    "a[1::-1]   # the first two items, reversed\n",
    "a[:-3:-1]  # the last two items, reversed\n",
    "a[-3::-1]  # everything except the last two items, reversed"
   ]
  },
  {
   "cell_type": "markdown",
   "id": "a056b1b1",
   "metadata": {},
   "source": [
    "## Valid Palindrome"
   ]
  },
  {
   "cell_type": "markdown",
   "id": "fb2f89a9",
   "metadata": {
    "collapsed": true
   },
   "source": [
    "A phrase is a palindrome if, after converting all uppercase letters into lowercase letters and removing all non-alphanumeric characters, it reads the same forward and backward. Alphanumeric characters include letters and numbers.\n",
    "Input: s = \"A man, a plan, a canal: Panama\"\n",
    "Output: true\n",
    "Explanation: \"amanaplanacanalpanama\" is a palindrome."
   ]
  },
  {
   "cell_type": "markdown",
   "id": "3889266b",
   "metadata": {},
   "source": [
    "Remove punctuation"
   ]
  },
  {
   "cell_type": "code",
   "execution_count": 27,
   "id": "54845d8e",
   "metadata": {},
   "outputs": [],
   "source": [
    "punc = '''!()-[]{};:'\"\\,<>./?@#$%^&*_~'''\n",
    "s = ''.join(ch for ch in s if ch not in punc).replace(\" \",\"\")"
   ]
  },
  {
   "cell_type": "code",
   "execution_count": 4,
   "id": "2732b177",
   "metadata": {},
   "outputs": [
    {
     "data": {
      "text/plain": [
       "True"
      ]
     },
     "execution_count": 4,
     "metadata": {},
     "output_type": "execute_result"
    }
   ],
   "source": [
    "# function which return reverse of a string\n",
    " \n",
    "def isPalindrome(s):\n",
    "    s = s.lower()\n",
    "    punc = '''!()-[]{};:'\"\\,<>./?@#$%^&*_~'''\n",
    "    s = ''.join(ch for ch in s if ch not in punc).replace(\" \",\"\")\n",
    "    return s == s[::-1]\n",
    "\n",
    "s = \"A man, a plan, a canal: Panama\"  \n",
    "s = \"malayalam\"\n",
    "isPalindrome(s)"
   ]
  },
  {
   "cell_type": "code",
   "execution_count": 5,
   "id": "a382d6c1",
   "metadata": {},
   "outputs": [
    {
     "data": {
      "text/plain": [
       "True"
      ]
     },
     "execution_count": 5,
     "metadata": {},
     "output_type": "execute_result"
    }
   ],
   "source": [
    "# function to check string is palindrome or not\n",
    "def isPalindrome(str):\n",
    " \n",
    "    # Run loop from 0 to len/2\n",
    "    for i in range(0, int(len(str)/2)):\n",
    "        if str[i] != str[len(str)-i-1]:\n",
    "            return False\n",
    "    return True\n",
    " \n",
    "# main function\n",
    "s = \"malayalam\"\n",
    "isPalindrome(s)"
   ]
  },
  {
   "cell_type": "markdown",
   "id": "d25328ab",
   "metadata": {},
   "source": [
    "## First Unique Character in a String"
   ]
  },
  {
   "cell_type": "markdown",
   "id": "5585953e",
   "metadata": {},
   "source": [
    "Given a string, find the first non-repeating character in it and return its index.\\\n",
    "If it doesn't exist, return -1. # Note: all the input strings are already lowercase."
   ]
  },
  {
   "cell_type": "code",
   "execution_count": 6,
   "id": "98b7f4ed",
   "metadata": {},
   "outputs": [
    {
     "name": "stdout",
     "output_type": "stream",
     "text": [
      "M\n",
      "u\n",
      "-1\n"
     ]
    }
   ],
   "source": [
    "def solution(s):\n",
    "    char = []\n",
    "    counts = {}\n",
    "    for c in s:\n",
    "        if c in counts:\n",
    "            counts[c] += 1\n",
    "        else:\n",
    "            counts[c] = 1\n",
    "            char.append(c)\n",
    "    for c in char:\n",
    "        if counts[c] == 1:\n",
    "            return c\n",
    "    return -1\n",
    "print(solution('PythonforallPythonMustforall'))\n",
    "print(solution('tutorialspointfordeveloper'))\n",
    "print(solution('AABBCC'))"
   ]
  },
  {
   "cell_type": "code",
   "execution_count": 8,
   "id": "a791825d",
   "metadata": {},
   "outputs": [
    {
     "name": "stdout",
     "output_type": "stream",
     "text": [
      "No Unique Character Found!\n",
      "First non-repeating character is:  u\n"
     ]
    }
   ],
   "source": [
    "s = \"tutorialspointfordeveloper\"\n",
    "while s != \"\":\n",
    "    length = len(s)\n",
    "    ch = s[0]\n",
    "    s = s.replace(ch, \"\")\n",
    "    length1 = len(s)\n",
    "    if length1 == length-1:\n",
    "        print (\"First non-repeating character is: \",ch)\n",
    "        break;\n",
    "    else:\n",
    "        print(\"No Unique Character Found!\")"
   ]
  },
  {
   "cell_type": "code",
   "execution_count": 17,
   "id": "5f289943",
   "metadata": {},
   "outputs": [
    {
     "name": "stdout",
     "output_type": "stream",
     "text": [
      "('l', 1)\n",
      "('r', 2)\n",
      "('r', 1)\n"
     ]
    }
   ],
   "source": [
    "#Approach 1\n",
    "def solution(s):\n",
    "    frequency = {}\n",
    "    for c in s:\n",
    "        if c not in frequency:\n",
    "            frequency[c] = 1\n",
    "        else:\n",
    "            frequency[c] +=1\n",
    "    for i in range(len(s)):\n",
    "        if frequency[s[i]] == 1:\n",
    "            return (s[i], i)\n",
    "    return -1\n",
    "\n",
    "print(solution('alphabet'))\n",
    "print(solution('barbados'))\n",
    "print(solution('crunchy'))"
   ]
  },
  {
   "cell_type": "code",
   "execution_count": 7,
   "id": "a595935b",
   "metadata": {},
   "outputs": [
    {
     "name": "stdout",
     "output_type": "stream",
     "text": [
      "1\n",
      "2\n",
      "1\n"
     ]
    }
   ],
   "source": [
    "#Approach 2\n",
    "import collections\n",
    "\n",
    "def solution(s):\n",
    "    # build hash map : character and how often it appears\n",
    "    count = collections.Counter(s) # <-- gives back a dictionary with words occurrence count \n",
    "                                         #Counter({'l': 1, 'e': 3, 't': 1, 'c': 1, 'o': 1, 'd': 1})\n",
    "    # find the index\n",
    "    for idx, ch in enumerate(s):\n",
    "        if count[ch] == 1:  ##Counter(s)[ch]\n",
    "            return idx     \n",
    "    return -1\n",
    "\n",
    "print(solution('alphabet'))\n",
    "print(solution('barbados'))\n",
    "print(solution('crunchy'))"
   ]
  },
  {
   "cell_type": "markdown",
   "id": "b1d48f63",
   "metadata": {},
   "source": [
    "## Valid Anagram"
   ]
  },
  {
   "cell_type": "markdown",
   "id": "a0671f38",
   "metadata": {},
   "source": [
    "### Sorted O(nlogn)"
   ]
  },
  {
   "cell_type": "markdown",
   "id": "306d9e26",
   "metadata": {},
   "source": [
    "An Anagram is a word or phrase formed by rearranging the letters of a different word or phrase, typically using all the original letters exactly once.\\\n",
    "\\\n",
    "Input: s = \"anagram\", t = \"nagaram\"\\\n",
    "Output: true"
   ]
  },
  {
   "cell_type": "code",
   "execution_count": 1,
   "id": "6c330fe8",
   "metadata": {},
   "outputs": [
    {
     "data": {
      "text/plain": [
       "False"
      ]
     },
     "execution_count": 1,
     "metadata": {},
     "output_type": "execute_result"
    }
   ],
   "source": [
    "def areAnagram(str1, str2):\n",
    "\n",
    "    if len(str1) != len(str2):\n",
    "        return False\n",
    "    if str1 == str2:\n",
    "        return True\n",
    "    else:\n",
    "        return False\n",
    "\n",
    "str1 = \"test\"\n",
    "str2 = \"ttew\" \n",
    "\n",
    "areAnagram(str1, str2)"
   ]
  },
  {
   "cell_type": "markdown",
   "id": "41564fab",
   "metadata": {},
   "source": [
    "### Hashmap O(n)"
   ]
  },
  {
   "cell_type": "code",
   "execution_count": 3,
   "id": "ec9b718c",
   "metadata": {},
   "outputs": [
    {
     "data": {
      "text/plain": [
       "False"
      ]
     },
     "execution_count": 3,
     "metadata": {},
     "output_type": "execute_result"
    }
   ],
   "source": [
    "def solution(str1, str2):\n",
    "     \n",
    "    if (len(str1) != len(str2)):\n",
    "        return False\n",
    "\n",
    "    map = {}\n",
    "   \n",
    "    for i in range(len(str1)):\n",
    "        if (str1[i] in map):\n",
    "            map[str1[i]] += 1\n",
    "        else:\n",
    "            map[str1[i]] = 1\n",
    "         \n",
    "    for i in range(len(str2)):\n",
    "        if (str2[i] in map):\n",
    "            map[str2[i]] -= 1\n",
    "    keys = map.keys()\n",
    "    for key in keys:\n",
    "        if (map[key] != 0):\n",
    "            return  False\n",
    "    return True\n",
    "\n",
    "str1 = \"test\"\n",
    "str2 = \"ttew\" \n",
    "\n",
    "solution(str1, str2)\n"
   ]
  },
  {
   "cell_type": "markdown",
   "id": "2e166619",
   "metadata": {},
   "source": [
    "## String to Integer (atoi)"
   ]
  },
  {
   "cell_type": "markdown",
   "id": "9f3802b7",
   "metadata": {},
   "source": [
    "Convert string to integer, input like \" -42\", \"9807\",' -89789'"
   ]
  },
  {
   "cell_type": "code",
   "execution_count": 35,
   "id": "1bf7e33c",
   "metadata": {},
   "outputs": [
    {
     "name": "stdout",
     "output_type": "stream",
     "text": [
      "89789\n",
      "-89789\n"
     ]
    }
   ],
   "source": [
    "def myAtoi(string):\n",
    "    string = string.strip() ## it can remove all the spaces\n",
    "    res = 0\n",
    "    sign = 1\n",
    "    i = 0\n",
    " \n",
    "    if string[0] == '-':\n",
    "        sign = -1\n",
    "        i += 1\n",
    "    for j in range(i, len(string)):\n",
    "        res = res*10+(ord(string[j])-ord('0')) #ord('0') = 48, ord('1')=49, ord('2')=50\n",
    "    return sign * res\n",
    "\n",
    "string1 = '89789'\n",
    "string2 = ' -89789'\n",
    "\n",
    "print(myAtoi(string1))\n",
    "print(myAtoi(string2))"
   ]
  },
  {
   "cell_type": "markdown",
   "id": "887e867f",
   "metadata": {},
   "source": [
    "## Substring O(m*n)"
   ]
  },
  {
   "cell_type": "markdown",
   "id": "55a23a06",
   "metadata": {},
   "source": [
    "Given two strings s1 and s2, find if s1 is a substring of s2. If yes, return the index of the first occurrence, else return -1."
   ]
  },
  {
   "cell_type": "code",
   "execution_count": 11,
   "id": "55f5580f",
   "metadata": {},
   "outputs": [
    {
     "data": {
      "text/plain": [
       "5"
      ]
     },
     "execution_count": 11,
     "metadata": {},
     "output_type": "execute_result"
    }
   ],
   "source": [
    "def isSubstring(s1, s2): \n",
    "    M = len(s1)\n",
    "    N = len(s2)\n",
    " \n",
    "    for i in range(N - M + 1):\n",
    "        for j in range(M):\n",
    "            if (s2[i + j] != s1[j]):\n",
    "                break \n",
    "        if j + 1 == M :\n",
    "            return i\n",
    "    return -1\n",
    " \n",
    "# Driver Code\n",
    "s1 = \"for\"\n",
    "s2 = \"geeksforgeeks\"\n",
    "isSubstring(s1, s2)"
   ]
  },
  {
   "cell_type": "code",
   "execution_count": 41,
   "id": "22fd1bef",
   "metadata": {},
   "outputs": [
    {
     "name": "stdout",
     "output_type": "stream",
     "text": [
      "-1\n",
      "5\n"
     ]
    }
   ],
   "source": [
    "def substr(string, target):\n",
    "     \n",
    "    t = 0\n",
    "    i = 0\n",
    "     \n",
    "    for i in range(len(string)):\n",
    "        if (t == len(target)):\n",
    "            break\n",
    "        if (string[i] == target[t]):\n",
    "            t += 1\n",
    "        else:\n",
    "            t = 0\n",
    "             \n",
    "    if (t < len(target)):\n",
    "        return -1\n",
    "    else:\n",
    "        return (i - t)\n",
    "# Driver code\n",
    "print(substr(\"GeeksForGeeks\", \"Fr\"))\n",
    "print(substr(\"GeeksForGeeks\", \"For\"))"
   ]
  },
  {
   "cell_type": "markdown",
   "id": "95dfaa06",
   "metadata": {},
   "source": [
    "## Count and Say"
   ]
  },
  {
   "cell_type": "markdown",
   "id": "fd227791",
   "metadata": {},
   "source": [
    "https://www.geeksforgeeks.org/look-and-say-sequence/"
   ]
  },
  {
   "cell_type": "code",
   "execution_count": 21,
   "id": "d9bf2886",
   "metadata": {},
   "outputs": [
    {
     "name": "stdout",
     "output_type": "stream",
     "text": [
      "21\n"
     ]
    }
   ],
   "source": [
    "def countnndSay(n):\n",
    "    if (n == 1):\n",
    "        return \"1\"\n",
    "    if (n == 2):\n",
    "        return \"11\"\n",
    "\n",
    "    s = \"11\"\n",
    "    for i in range(3, n + 1):\n",
    "        s += '$'\n",
    "        l = len(s)\n",
    "        \n",
    "        cnt = 1 \n",
    "        tmp = \"\" \n",
    "        \n",
    "        for j in range(1 , l):\n",
    "            if (s[j] != s[j - 1]):\n",
    "                tmp += str(cnt + 0)\n",
    "                tmp += s[j - 1]\n",
    "                cnt = 1\n",
    "            else:\n",
    "                cnt += 1\n",
    "        s = tmp\n",
    "    return s\n",
    "\n",
    "N = 3\n",
    "print(countnndSay(N))"
   ]
  },
  {
   "cell_type": "markdown",
   "id": "c80a3782",
   "metadata": {},
   "source": [
    "## Longest Common Prefix O(max*n*logn)"
   ]
  },
  {
   "cell_type": "markdown",
   "id": "9bdb8fe1",
   "metadata": {},
   "source": [
    "Write the function to find the longest common prefix string among an array of words."
   ]
  },
  {
   "cell_type": "code",
   "execution_count": 5,
   "id": "75b661ca",
   "metadata": {},
   "outputs": [
    {
     "data": {
      "text/plain": [
       "'gee'"
      ]
     },
     "execution_count": 5,
     "metadata": {},
     "output_type": "execute_result"
    }
   ],
   "source": [
    "# A Utility Function to find the common prefix between first and last strings\n",
    "def longestCommonPrefix(a):    \n",
    "    size = len(a)\n",
    "\n",
    "    if (size == 0):\n",
    "        return \"\"\n",
    "    if (size == 1):\n",
    "        return a[0]\n",
    "    \n",
    "    a.sort()\n",
    "      \n",
    "    # find the minimum length from first and last string \n",
    "    end = min(len(a[0]), len(a[size - 1]))\n",
    "    # find the common prefix between the first and last string \n",
    "    i = 0\n",
    "    while (i < end and a[0][i] == a[size - 1][i]):\n",
    "        i += 1\n",
    "    pre = a[0][0:i]\n",
    "    return pre\n",
    "\n",
    "arr = [\"geeksforgeeks\", \"geeks\",\"geek\", \"geezer\"]\n",
    "longestCommonPrefix(arr)"
   ]
  },
  {
   "cell_type": "markdown",
   "id": "cbf1147e",
   "metadata": {},
   "source": [
    "## Equivalent String Arrays "
   ]
  },
  {
   "cell_type": "code",
   "execution_count": 30,
   "id": "ecb1a57a",
   "metadata": {},
   "outputs": [
    {
     "data": {
      "text/plain": [
       "True"
      ]
     },
     "execution_count": 30,
     "metadata": {},
     "output_type": "execute_result"
    }
   ],
   "source": [
    "def two_string_equivalent(word1,word2):\n",
    "    return \"\".join(word1) == \"\".join(word2)\n",
    "\n",
    "# test case\n",
    "word1 = [\"ab\", \"c\"]\n",
    "word2 = [\"a\", \"bc\"]\n",
    "two_string_equivalent(word1,word2)"
   ]
  },
  {
   "cell_type": "markdown",
   "id": "b28ddc6d",
   "metadata": {},
   "source": [
    "## Average Words Length"
   ]
  },
  {
   "cell_type": "code",
   "execution_count": 11,
   "id": "298a8981",
   "metadata": {},
   "outputs": [
    {
     "name": "stdout",
     "output_type": "stream",
     "text": [
      "4.2\n",
      "4.08\n"
     ]
    }
   ],
   "source": [
    "# For a given sentence, return the average word length. \n",
    "# Note: Remember to remove punctuation first.\n",
    "\n",
    "sentence1 = \"Hi all, my name is Tom...I am originally from Australia.\"\n",
    "sentence2 = \"I need to work very hard to learn more about algorithms in Python!\"\n",
    "\n",
    "def solution(sentence):\n",
    "    for p in \"!?',;.\":\n",
    "        sentence = sentence.replace(p, '')\n",
    "    words = sentence.split()\n",
    "    return round(sum(len(word) for word in words)/len(words),2)\n",
    "    \n",
    "print(solution(sentence1))\n",
    "print(solution(sentence2))"
   ]
  },
  {
   "cell_type": "markdown",
   "id": "fc2f0b1d",
   "metadata": {},
   "source": [
    "## Add Strings"
   ]
  },
  {
   "cell_type": "markdown",
   "id": "4cd8828c",
   "metadata": {},
   "source": [
    "Given two non-negative integers num1 and num2 represented as string, return the sum of num1 and num2."
   ]
  },
  {
   "cell_type": "code",
   "execution_count": null,
   "id": "4d04758c",
   "metadata": {},
   "outputs": [],
   "source": [
    "num1 = '364'\n",
    "num2 = '1836'\n",
    "\n",
    "# Approach 1: \n",
    "def solution(num1,num2):\n",
    "    eval(num1) + eval(num2)  ## eval() parses the expression argument and evaluates it as a python expression\n",
    "    return str(eval(num1) + eval(num2))\n",
    "            \n",
    "print(solution(num1,num2))\n",
    "\n",
    "#Approach2 \n",
    "#Given a string of length one, the ord() function returns an integer representing the Unicode code point of the character \n",
    "#when the argument is a unicode object, or the value of the byte when the argument is an 8-bit string.\n",
    "\n",
    "def solution(num1, num2):\n",
    "    n1, n2 = 0, 0\n",
    "    m1, m2 = 10**(len(num1)-1), 10**(len(num2)-1)\n",
    "\n",
    "    for i in num1:\n",
    "        n1 += (ord(i) - ord(\"0\")) * m1 \n",
    "        m1 = m1//10        \n",
    "\n",
    "    for i in num2:\n",
    "        n2 += (ord(i) - ord(\"0\")) * m2\n",
    "        m2 = m2//10\n",
    "\n",
    "    return str(n1 + n2)\n",
    "print(solution(num1, num2))"
   ]
  },
  {
   "cell_type": "markdown",
   "id": "dcfdf0c7",
   "metadata": {},
   "source": [
    "# Arrays"
   ]
  },
  {
   "cell_type": "markdown",
   "id": "2210c6c8",
   "metadata": {},
   "source": [
    "## Remove duplicates from sorted array O(N)"
   ]
  },
  {
   "cell_type": "code",
   "execution_count": 8,
   "id": "b6371328",
   "metadata": {},
   "outputs": [
    {
     "data": {
      "text/plain": [
       "[1, 2, 3, 4, 5]"
      ]
     },
     "execution_count": 8,
     "metadata": {},
     "output_type": "execute_result"
    }
   ],
   "source": [
    "def removeDuplicates(nums):\n",
    "    if len(nums) == 0 or len(nums) == 1:\n",
    "        return nums\n",
    "        \n",
    "    j = 1 # slover pointer, only move when meet unique number\n",
    "    for i in range(1, len(nums)): # faster pointer, i will iterate over all element in nums\n",
    "        if nums[i] != nums[i-1]: # when nums[i] is a unique number, assign it to nums[j]\n",
    "            nums[j] = nums[i]\n",
    "            j += 1\n",
    "    return [nums[j] for j in range(j)]\n",
    "        \n",
    "nums = [1, 2, 2, 3, 4, 4, 4, 5, 5]\n",
    "removeDuplicates(nums)"
   ]
  },
  {
   "cell_type": "markdown",
   "id": "1ce738b8",
   "metadata": {},
   "source": [
    "## Monotonic Array"
   ]
  },
  {
   "cell_type": "markdown",
   "id": "60d6f237",
   "metadata": {},
   "source": [
    "Given an array of integers, determine whether the array is monotonic or not."
   ]
  },
  {
   "cell_type": "code",
   "execution_count": 73,
   "id": "f9184021",
   "metadata": {},
   "outputs": [
    {
     "name": "stdout",
     "output_type": "stream",
     "text": [
      "True\n",
      "False\n",
      "True\n"
     ]
    }
   ],
   "source": [
    "def solution(nums): \n",
    "    return (all(nums[i] <= nums[i + 1] for i in range(len(nums) - 1)) or \n",
    "            all(nums[i] >= nums[i + 1] for i in range(len(nums) - 1))) \n",
    "\n",
    "A = [6, 5, 4, 4] \n",
    "B = [1,1,1,3,3,4,3,2,4,2]\n",
    "C = [1,1,2,3,7]\n",
    "print(solution(A)) \n",
    "print(solution(B)) \n",
    "print(solution(C))"
   ]
  },
  {
   "cell_type": "markdown",
   "id": "f41f5e7f",
   "metadata": {},
   "source": [
    "## Move Zeroes"
   ]
  },
  {
   "cell_type": "markdown",
   "id": "8930bc1d",
   "metadata": {},
   "source": [
    "Given an array nums, write a function to move all zeroes to the end of it while maintaining the relative order of the non-zero elements."
   ]
  },
  {
   "cell_type": "code",
   "execution_count": 10,
   "id": "92dac2b5",
   "metadata": {},
   "outputs": [
    {
     "data": {
      "text/plain": [
       "[1, 7, 8, 10, 12, 4, 0, 0, 0, 0]"
      ]
     },
     "execution_count": 10,
     "metadata": {},
     "output_type": "execute_result"
    }
   ],
   "source": [
    "def solution(nums):\n",
    "    for i in nums:\n",
    "        if 0 in nums:\n",
    "            nums.remove(0)\n",
    "            nums.append(0)\n",
    "    return nums\n",
    "\n",
    "array2 = [1,7,0,0,8,0,10,12,0,4]\n",
    "solution(array2)"
   ]
  },
  {
   "cell_type": "markdown",
   "id": "47db1f78",
   "metadata": {},
   "source": [
    "## Fill The Blanks"
   ]
  },
  {
   "cell_type": "markdown",
   "id": "fc666822",
   "metadata": {},
   "source": [
    "Given an array containing None values fill in the None values with most recent non None value in the array "
   ]
  },
  {
   "cell_type": "code",
   "execution_count": 76,
   "id": "198d62e8",
   "metadata": {},
   "outputs": [
    {
     "data": {
      "text/plain": [
       "[1, 1, 2, 3, 3, 3, 5, 5]"
      ]
     },
     "execution_count": 76,
     "metadata": {},
     "output_type": "execute_result"
    }
   ],
   "source": [
    "def solution(arr):\n",
    "    valid = 0            \n",
    "    res = []                 \n",
    "    for i in arr: \n",
    "        if i is not None:    \n",
    "            res.append(i)\n",
    "            valid = i\n",
    "        else:\n",
    "            res.append(valid)\n",
    "    return res\n",
    "\n",
    "arr = [1,None,2,3,None,None,5,None]\n",
    "solution(arr)"
   ]
  },
  {
   "cell_type": "code",
   "execution_count": 271,
   "id": "f5449b06",
   "metadata": {},
   "outputs": [
    {
     "name": "stdout",
     "output_type": "stream",
     "text": [
      "[1, 1, 2, 2, 2, 3, 4]\n"
     ]
    }
   ],
   "source": [
    "def solution(nums):\n",
    "    for i in range(len(nums)):\n",
    "        if nums[i] is None:\n",
    "            nums[i] = nums[i-1]\n",
    "    return nums\n",
    "print(solution([1,None,2,None,None,3,4]))"
   ]
  },
  {
   "cell_type": "markdown",
   "id": "1e69c067",
   "metadata": {},
   "source": [
    "## Matched & Mismatched Words"
   ]
  },
  {
   "cell_type": "markdown",
   "id": "453c4e57",
   "metadata": {},
   "source": [
    "Given two sentences, return an array that has the words that appear in one sentence and not the other and an array with the words in common. "
   ]
  },
  {
   "cell_type": "code",
   "execution_count": 20,
   "id": "9af75f52",
   "metadata": {},
   "outputs": [
    {
     "name": "stdout",
     "output_type": "stream",
     "text": [
      "(['The', 'We', 'a', 'are', 'by', 'heavy', 'hit', 'in', 'meet', 'our', 'pleased', 'storm', 'to', 'was', 'you'], ['city', 'really'])\n"
     ]
    }
   ],
   "source": [
    "def solution(sentence1, sentence2):\n",
    "    set1 = set(sentence1.split()) ## set returns to unique values: set([1,2,3,3]) -> {1,2,3}\n",
    "    set2 = set(sentence2.split())\n",
    "    \n",
    "    return sorted(list(set1^set2)), sorted(list(set1&set2)) \n",
    "# ^ A.symmetric_difference(B), & A.intersection(B)\n",
    "\n",
    "\n",
    "sentence1 = 'We are really pleased to meet you in our city'\n",
    "sentence2 = 'The city was hit by a really heavy storm'\n",
    "print(solution(sentence1, sentence2))"
   ]
  },
  {
   "cell_type": "markdown",
   "id": "73c85fc6",
   "metadata": {},
   "source": [
    "## Prime Numbers Array"
   ]
  },
  {
   "cell_type": "markdown",
   "id": "a68ae93f",
   "metadata": {},
   "source": [
    "Given k numbers which are less than n, return the set of prime number among them.\\\n",
    "Note: The task is to write a program to print all Prime numbers in an Interval.\\\n",
    "Definition: A prime number is a natural number greater than 1 that has no positive divisors other than 1 and itself. "
   ]
  },
  {
   "cell_type": "code",
   "execution_count": 79,
   "id": "9928b7a3",
   "metadata": {},
   "outputs": [
    {
     "data": {
      "text/plain": [
       "[2, 3, 5, 7, 11, 13, 17, 19, 23, 29, 31]"
      ]
     },
     "execution_count": 79,
     "metadata": {},
     "output_type": "execute_result"
    }
   ],
   "source": [
    "def solution(n):\n",
    "    prime_nums = []\n",
    "    for num in range(n):\n",
    "        if num > 1: # all prime numbers are greater than 1\n",
    "            for i in range(2, num):\n",
    "                if (num % i) == 0: # if the modulus == 0 is means that the number can be divided by a number preceding it\n",
    "                    break\n",
    "            else:\n",
    "                prime_nums.append(num)\n",
    "    return prime_nums\n",
    "\n",
    "n = 35\n",
    "solution(n)"
   ]
  },
  {
   "cell_type": "markdown",
   "id": "427d2885",
   "metadata": {},
   "source": [
    "## Find N largest elements from a list"
   ]
  },
  {
   "cell_type": "code",
   "execution_count": 289,
   "id": "987f3f95",
   "metadata": {},
   "outputs": [
    {
     "name": "stdout",
     "output_type": "stream",
     "text": [
      "[11, 9, 7, 6]\n"
     ]
    }
   ],
   "source": [
    "def solution(nums, N):\n",
    "    res = []\n",
    "    for i in range(0, N):\n",
    "        maxs = 0\n",
    "        for j in range(len(nums)):\n",
    "            if nums[j]>maxs:\n",
    "                maxs=nums[j]\n",
    "        nums.remove(maxs)\n",
    "        res.append(maxs)\n",
    "    return res \n",
    "\n",
    "print(solution([4,7,9,11,3,6], 4))"
   ]
  },
  {
   "cell_type": "code",
   "execution_count": 290,
   "id": "7760d3ca",
   "metadata": {},
   "outputs": [
    {
     "name": "stdout",
     "output_type": "stream",
     "text": [
      "[6, 7, 9, 11]\n"
     ]
    }
   ],
   "source": [
    "def solution(nums, N):\n",
    "    nums = sorted(nums)\n",
    "    return nums[-N:]\n",
    "print(solution([4,7,9,11,3,6], 4))"
   ]
  },
  {
   "cell_type": "markdown",
   "id": "0d8fcfe7",
   "metadata": {},
   "source": [
    "## 3Sum"
   ]
  },
  {
   "cell_type": "markdown",
   "id": "e59ed938",
   "metadata": {},
   "source": [
    "Input: nums = [-1,0,1,2,-1,-4]\\\n",
    "Output: [[-1,-1,2],[-1,0,1]]"
   ]
  },
  {
   "cell_type": "code",
   "execution_count": 3,
   "id": "c420c138",
   "metadata": {},
   "outputs": [
    {
     "data": {
      "text/plain": [
       "[[-1, -1, 2], [-1, 0, 1]]"
      ]
     },
     "execution_count": 3,
     "metadata": {},
     "output_type": "execute_result"
    }
   ],
   "source": [
    "nums = [-1,0,1,2,-1,-4]\n",
    "def threeSum(nums):\n",
    "        \"\"\"\n",
    "        :type nums: List[int]\n",
    "        :rtype: List[List[int]]\n",
    "        \"\"\"\n",
    "        nums.sort()\n",
    "        N = len(nums)\n",
    "        result = []\n",
    "        for i in range(N):\n",
    "            if i > 0 and nums[i] == nums[i-1]:\n",
    "                continue \n",
    "            target = nums[i]*-1\n",
    "            s,e = i+1, N-1\n",
    "            while s<e:\n",
    "                if nums[s]+nums[e] == target:\n",
    "                    result.append([nums[i], nums[s], nums[e]])\n",
    "                    s = s+1\n",
    "                    while s<e and nums[s] == nums[s-1]:\n",
    "                        s = s+1\n",
    "                elif nums[s] + nums[e] < target:\n",
    "                    s = s+1\n",
    "                else:\n",
    "                    e = e-1\n",
    "        return result\n",
    "threeSum(nums)"
   ]
  },
  {
   "cell_type": "markdown",
   "id": "e086aa54",
   "metadata": {},
   "source": [
    "# Linked List"
   ]
  },
  {
   "cell_type": "markdown",
   "id": "62c2504c",
   "metadata": {},
   "source": [
    "## Delte Node in a Linked List"
   ]
  },
  {
   "cell_type": "code",
   "execution_count": null,
   "id": "b5c449ce",
   "metadata": {},
   "outputs": [],
   "source": []
  },
  {
   "cell_type": "markdown",
   "id": "4735bccd",
   "metadata": {},
   "source": [
    "## Remove Nth Node from End of a list"
   ]
  },
  {
   "cell_type": "code",
   "execution_count": null,
   "id": "dd296c46",
   "metadata": {},
   "outputs": [],
   "source": []
  },
  {
   "cell_type": "markdown",
   "id": "b9bf59f0",
   "metadata": {},
   "source": [
    "## Reverse Linked List"
   ]
  },
  {
   "cell_type": "code",
   "execution_count": null,
   "id": "3b1a4b85",
   "metadata": {},
   "outputs": [],
   "source": [
    "class LinkedList:\n",
    "    def __int__(self):\n",
    "        self.head = None\n",
    "        \n",
    "    def reverse(self):\n",
    "        prev = None\n",
    "        curr = self.head\n",
    "        while curr:\n",
    "            next = curr.next\n",
    "            curr.next = prev\n",
    "            prev = curr\n",
    "            curr = next\n",
    "        self.head = prev"
   ]
  },
  {
   "cell_type": "markdown",
   "id": "9d3ebe8e",
   "metadata": {},
   "source": [
    "## Merge Two Sorted Lists"
   ]
  },
  {
   "cell_type": "code",
   "execution_count": null,
   "id": "2a3fc49f",
   "metadata": {},
   "outputs": [],
   "source": []
  },
  {
   "cell_type": "markdown",
   "id": "4931d2d3",
   "metadata": {},
   "source": [
    "## Palindrome Linked List"
   ]
  },
  {
   "cell_type": "code",
   "execution_count": null,
   "id": "0504708a",
   "metadata": {},
   "outputs": [],
   "source": []
  },
  {
   "cell_type": "markdown",
   "id": "479c6ee8",
   "metadata": {},
   "source": [
    "## Linked List Cycle"
   ]
  },
  {
   "cell_type": "code",
   "execution_count": null,
   "id": "e8caf1fd",
   "metadata": {},
   "outputs": [],
   "source": []
  },
  {
   "cell_type": "markdown",
   "id": "7cc671df",
   "metadata": {},
   "source": [
    "# Trees"
   ]
  },
  {
   "cell_type": "markdown",
   "id": "6dc55475",
   "metadata": {},
   "source": [
    "## Maximum Depth of Binary Tree"
   ]
  },
  {
   "attachments": {
    "image.png": {
     "image/png": "[encoded data removed]"
    }
   },
   "cell_type": "markdown",
   "id": "63599559",
   "metadata": {},
   "source": [
    "Given a binary tree, find height of it. Height of empty tree is -1, height of tree with one node is 0 and height of below tree is 2. \n",
    "![image.png](attachment:image.png)"
   ]
  },
  {
   "cell_type": "markdown",
   "id": "73e78c15",
   "metadata": {},
   "source": [
    "maxDepth()\n",
    "* If tree is empty then return -1\n",
    "* Else\n",
    "     * Get the max depth of left subtree recursively  i.e.,call maxDepth( tree->left-subtree)\n",
    "     * Get the max depth of right subtree recursively  i.e., call maxDepth( tree->right-subtree)\n",
    "     * Get the max of max depths of left and right subtrees and add 1 to it for the current node.\n",
    "     * max_depth = max(max dept of left subtree, max depth of right subtree) + 1\n",
    "     * Return max_depth"
   ]
  },
  {
   "cell_type": "code",
   "execution_count": 85,
   "id": "fa7c81df",
   "metadata": {},
   "outputs": [
    {
     "name": "stdout",
     "output_type": "stream",
     "text": [
      "Height of tree is 2\n"
     ]
    }
   ],
   "source": [
    "class Node:\n",
    "    def __init__(self, data):\n",
    "        self.data = data\n",
    "        self.left = None\n",
    "        self.right = None\n",
    "\n",
    "def maxDepth(node):\n",
    "    if node is None:\n",
    "        return -1 ;\n",
    "    else :\n",
    "        lDepth = maxDepth(node.left)\n",
    "        rDepth = maxDepth(node.right)\n",
    "        if (lDepth > rDepth):\n",
    "            return lDepth+1\n",
    "        else:\n",
    "            return rDepth+1\n",
    "\n",
    "# Test\n",
    "root = Node(1)\n",
    "root.left = Node(2)\n",
    "root.right = Node(3)\n",
    "root.left.left = Node(4)\n",
    "root.left.right = Node(5)\n",
    "\n",
    "print (\"Height of tree is %d\" %(maxDepth(root)))"
   ]
  },
  {
   "cell_type": "markdown",
   "id": "89fdfe50",
   "metadata": {},
   "source": [
    "## Validate Binary Search Tree"
   ]
  },
  {
   "cell_type": "markdown",
   "id": "e9f6631d",
   "metadata": {},
   "source": [
    "A binary search tree (BST) is a node based binary tree data structure which has the following properties. \n",
    "\n",
    "The left subtree of a node contains only nodes with keys less than the node’s key.\n",
    "The right subtree of a node contains only nodes with keys greater than the node’s key.\n",
    "Both the left and right subtrees must also be binary search trees."
   ]
  },
  {
   "cell_type": "code",
   "execution_count": 86,
   "id": "7e28a3ca",
   "metadata": {},
   "outputs": [
    {
     "name": "stdout",
     "output_type": "stream",
     "text": [
      "Is BST\n"
     ]
    }
   ],
   "source": [
    "INT_MAX = 4294967296\n",
    "INT_MIN = -4294967296\n",
    "\n",
    "# Constructor to create a new node\n",
    "class Node:\n",
    "    def __init__(self, data):\n",
    "        self.data = data\n",
    "        self.left = None\n",
    "        self.right = None\n",
    "\n",
    "# Returns true if the given tree is a binary search tree (efficient version)\n",
    "def isBST(node):\n",
    "    return (isBSTUtil(node, INT_MIN, INT_MAX))\n",
    "\n",
    "# Return true if the given tree is a BST and its values >= min and <= max\n",
    "def isBSTUtil(node, mini, maxi):\n",
    "    \n",
    "    # An empty tree is BST\n",
    "    if node is None:\n",
    "        return True\n",
    "\n",
    "    # False if this node violates min/max constraint\n",
    "    if node.data < mini or node.data > maxi:\n",
    "        return False\n",
    "\n",
    "    # Otherwise check the subtrees recursively tightening the min or max constraint\n",
    "    return (isBSTUtil(node.left, mini, node.data -1) and\n",
    "            isBSTUtil(node.right, node.data+1, maxi))\n",
    "\n",
    "# Driver program to test above function\n",
    "root = Node(4)\n",
    "root.left = Node(2)\n",
    "root.right = Node(5)\n",
    "root.left.left = Node(1)\n",
    "root.left.right = Node(3)\n",
    "\n",
    "if (isBST(root)):\n",
    "    print (\"Is BST\")\n",
    "else:\n",
    "    print (\"Not a BST\")"
   ]
  },
  {
   "cell_type": "markdown",
   "id": "148c10de",
   "metadata": {},
   "source": [
    "## Symmetric Tree"
   ]
  },
  {
   "cell_type": "markdown",
   "id": "7459f00e",
   "metadata": {},
   "source": [
    "this binary tree is symmetric: \n",
    "     1\n",
    "   /   \\\n",
    "  2     2\n",
    " / \\   / \\\n",
    "3   4 4   3\n",
    "\n",
    "But the following is not:\n",
    "    1\n",
    "   / \\\n",
    "  2   2\n",
    "   \\   \\\n",
    "   3    3"
   ]
  },
  {
   "cell_type": "code",
   "execution_count": 89,
   "id": "5e5fb7fc",
   "metadata": {},
   "outputs": [
    {
     "name": "stdout",
     "output_type": "stream",
     "text": [
      "Symmetric\n"
     ]
    }
   ],
   "source": [
    "class Node:\n",
    " \n",
    "    # Utility function to create new node\n",
    "    def __init__(self, data):\n",
    "        self.data = data\n",
    "        self.data = None\n",
    "        self.data = None\n",
    "\n",
    "# Returns True if trees with roots as root1 and root 2  are mirror\n",
    " \n",
    "def isMirror(root1, root2):\n",
    "    # If both trees are empty, then they are mirror images\n",
    "    if root1 is None and root2 is None:\n",
    "        return True\n",
    "    if (root1 is not None and root2 is not None):\n",
    "        if root1.key == root2.key:\n",
    "            return (isMirror(root1.left, root2.right)and\n",
    "                    isMirror(root1.right, root2.left))\n",
    " \n",
    "    # If none of the above conditions is true then root1\n",
    "    # and root2 are not mirror images\n",
    "    return False\n",
    " \n",
    "def isSymmetric(root):\n",
    " \n",
    "    # Check if tree is mirror of itself\n",
    "    return isMirror(root, root)\n",
    " \n",
    "# Driver Code\n",
    "# Let's construct the tree show in the above figure\n",
    "root = Node(1)\n",
    "root.left = Node(2)\n",
    "root.right = Node(2)\n",
    "root.left.left = Node(3)\n",
    "root.left.right = Node(4)\n",
    "root.right.left = Node(4)\n",
    "root.right.right = Node(3)\n",
    "print (\"Symmetric\" if isSymmetric(root) == True else \"Not symmetric\")"
   ]
  },
  {
   "cell_type": "markdown",
   "id": "a189db32",
   "metadata": {},
   "source": [
    "## Binary Tree Level Order Traversal"
   ]
  },
  {
   "cell_type": "markdown",
   "id": "c9272b6a",
   "metadata": {},
   "source": [
    "Level order traversal of the above tree is 1 2 3 4 5 "
   ]
  },
  {
   "attachments": {
    "image.png": {
     "image/png": "[encoded data removed]"
    }
   },
   "cell_type": "markdown",
   "id": "864141f3",
   "metadata": {},
   "source": [
    "![image.png](attachment:image.png)"
   ]
  },
  {
   "cell_type": "code",
   "execution_count": 159,
   "id": "463b0802",
   "metadata": {},
   "outputs": [
    {
     "name": "stdout",
     "output_type": "stream",
     "text": [
      "Level order traversal of binary tree is -\n",
      "1 2 3 4 5 "
     ]
    }
   ],
   "source": [
    "class Node:\n",
    "\n",
    "    # A utility function to create a new node\n",
    "    def __init__(self, key):\n",
    "        self.data = key\n",
    "        self.left = None\n",
    "        self.right = None\n",
    "\n",
    "# Function to print level order traversal of tree\n",
    "def printLevelOrder(root):\n",
    "    h = height(root)\n",
    "    for i in range(1, h+1):\n",
    "        printCurrentLevel(root, i)\n",
    "\n",
    "# Print nodes at a current level\n",
    "def printCurrentLevel(root, level):\n",
    "    if root is None:\n",
    "        return\n",
    "    if level == 1:\n",
    "        print(root.data, end=\" \")\n",
    "    elif level > 1:\n",
    "        printCurrentLevel(root.left, level-1)\n",
    "        printCurrentLevel(root.right, level-1)\n",
    "\n",
    "def height(node):\n",
    "    if node is None:\n",
    "        return 0\n",
    "    else:\n",
    "        lheight = height(node.left)\n",
    "        rheight = height(node.right)\n",
    "       # Use the larger one\n",
    "        if lheight > rheight:\n",
    "            return lheight+1\n",
    "        else:\n",
    "            return rheight+1\n",
    "\n",
    "\n",
    "# Driver program to test above function\n",
    "root = Node(1)\n",
    "root.left = Node(2)\n",
    "root.right = Node(3)\n",
    "root.left.left = Node(4)\n",
    "root.left.right = Node(5)\n",
    "\n",
    "printLevelOrder(root)"
   ]
  },
  {
   "cell_type": "code",
   "execution_count": 160,
   "id": "29c81769",
   "metadata": {},
   "outputs": [
    {
     "name": "stdout",
     "output_type": "stream",
     "text": [
      "Level Order Traversal of binary tree is -\n",
      "1\n",
      "2\n",
      "3\n",
      "4\n",
      "5\n"
     ]
    }
   ],
   "source": [
    "# Python program to print level order traversal using Queue\n",
    "\n",
    "class Node:\n",
    "    def __init__(self, key):\n",
    "        self.data = key\n",
    "        self.left = None\n",
    "        self.right = None\n",
    "\n",
    "# Iterative Method to print the height of a binary tree\n",
    "\n",
    "def printLevelOrder(root):\n",
    "    # Base Case\n",
    "    if root is None:\n",
    "        return\n",
    "\n",
    "    # Create an empty queue for level order traversal\n",
    "    queue = []\n",
    "    # Enqueue Root and initialize height\n",
    "    queue.append(root)\n",
    "    while(len(queue) > 0):\n",
    "        # Print front of queue and remove it from queue\n",
    "        print(queue[0].data)\n",
    "        node = queue.pop(0)\n",
    "        # Enqueue left child\n",
    "        if node.left is not None:\n",
    "            queue.append(node.left)\n",
    "        # Enqueue right child\n",
    "        if node.right is not None:\n",
    "            queue.append(node.right)\n",
    "\n",
    "# Driver Program to test above function\n",
    "root = Node(1)\n",
    "root.left = Node(2)\n",
    "root.right = Node(3)\n",
    "root.left.left = Node(4)\n",
    "root.left.right = Node(5)\n",
    "\n",
    "print(\"Level Order Traversal of binary tree is -\")\n",
    "printLevelOrder(root)"
   ]
  },
  {
   "cell_type": "markdown",
   "id": "7e7fc296",
   "metadata": {},
   "source": [
    "## Convert sorted Array to Binary Tree"
   ]
  },
  {
   "cell_type": "markdown",
   "id": "fdb0580c",
   "metadata": {},
   "source": [
    "Input:  Array {1, 2, 3}\n",
    "Output: A Balanced BST\n",
    "     2\n",
    "   /  \\\n",
    "  1    3 \n",
    "\n",
    "Input: Array {1, 2, 3, 4}\n",
    "Output: A Balanced BST\n",
    "      3\n",
    "    /  \\\n",
    "   2    4\n",
    " /\n",
    "1"
   ]
  },
  {
   "cell_type": "code",
   "execution_count": null,
   "id": "494fd21e",
   "metadata": {},
   "outputs": [],
   "source": [
    "# Python code to convert a sorted array\n",
    "# to a balanced Binary Search Tree\n",
    "\n",
    "# binary tree node\n",
    "class Node:\n",
    "\tdef __init__(self, d):\n",
    "\t\tself.data = d\n",
    "\t\tself.left = None\n",
    "\t\tself.right = None\n",
    "\n",
    "# function to convert sorted array to a\n",
    "# balanced BST\n",
    "# input : sorted array of integers\n",
    "# output: root node of balanced BST\n",
    "def sortedArrayToBST(arr):\n",
    "\t\n",
    "\tif not arr:\n",
    "\t\treturn None\n",
    "\n",
    "\t# find middle\n",
    "\tmid = (len(arr)) / 2\n",
    "\t\n",
    "\t# make the middle element the root\n",
    "\troot = Node(arr[mid])\n",
    "\t\n",
    "\t# left subtree of root has all\n",
    "\t# values <arr[mid]\n",
    "\troot.left = sortedArrayToBST(arr[:mid])\n",
    "\t\n",
    "\t# right subtree of root has all\n",
    "\t# values >arr[mid]\n",
    "\troot.right = sortedArrayToBST(arr[mid+1:])\n",
    "\treturn root\n",
    "\n",
    "# A utility function to print the preorder\n",
    "# traversal of the BST\n",
    "def preOrder(node):\n",
    "\tif not node:\n",
    "\t\treturn\n",
    "\t\n",
    "\tprint node.data,\n",
    "\tpreOrder(node.left)\n",
    "\tpreOrder(node.right)\n",
    "\n",
    "# driver program to test above function\n",
    "\"\"\"\n",
    "Constructed balanced BST is\n",
    "4\n",
    "/ \\\n",
    "2 6\n",
    "/ \\ / \\\n",
    "1 3 5 7\n",
    "\"\"\"\n",
    "\n",
    "arr = [1, 2, 3, 4, 5, 6, 7]\n",
    "root = sortedArrayToBST(arr)\n",
    "print \"PreOrder Traversal of constructed BST \",\n",
    "preOrder(root)\n",
    "\n",
    "# This code is contributed by Ishita Tripathi\n"
   ]
  },
  {
   "cell_type": "markdown",
   "id": "7baf4fe6",
   "metadata": {},
   "source": [
    "# Sorting and Searching"
   ]
  },
  {
   "cell_type": "markdown",
   "id": "a559d942",
   "metadata": {},
   "source": [
    "## Quick Sort"
   ]
  },
  {
   "cell_type": "code",
   "execution_count": null,
   "id": "551187e7",
   "metadata": {},
   "outputs": [],
   "source": [
    "def helper(a, low, high):\n",
    "    i = low - 1 # smaller element index\n",
    "    pivot = a[high] # pivot\n",
    "    for j in range(low, high):\n",
    "        if a[j] <= pivot:\n",
    "            i +=1 \n",
    "            a[i], a[j] = a[j], a[i] # swap\n",
    "    a[i+1], a[high] = a[high], a[i+1]\n",
    "    return i+1\n",
    "def quicksort(a, low, high):\n",
    "    if len(a) == 1:\n",
    "        return a\n",
    "    if low < high:\n",
    "        pivot = helper(a, low, high) # place pivot\n",
    "        quicksort(a, low, pivot-1) # recuse left side\n",
    "        quicksort(a, pivot+1, high) # recurse right side\n",
    "    return a"
   ]
  },
  {
   "cell_type": "markdown",
   "id": "41910ac3",
   "metadata": {},
   "source": [
    "## First Bad Version"
   ]
  },
  {
   "cell_type": "markdown",
   "id": "f41605b4",
   "metadata": {},
   "source": [
    "Input: n = 5, bad = 4 \\\n",
    "Output: 4 \\\n",
    "Explanation: \\ \n",
    "call isBadVersion(3) -> false \\\n",
    "call isBadVersion(5) -> true \\\n",
    "call isBadVersion(4) -> true \\\n",
    "Then 4 is the first bad version. "
   ]
  },
  {
   "cell_type": "code",
   "execution_count": 92,
   "id": "7946ff38",
   "metadata": {},
   "outputs": [
    {
     "name": "stdout",
     "output_type": "stream",
     "text": [
      "4\n"
     ]
    }
   ],
   "source": [
    "first_bad = 0\n",
    "def isBadVersion(version):\n",
    "    if version >= first_bad:\n",
    "        return True\n",
    "    return False\n",
    "class Solution:\n",
    "    def firstBadVersion(self, n):\n",
    "        if n <2:\n",
    "            return n\n",
    "        start = 1\n",
    "        end = n\n",
    "        while(start<=end):\n",
    "            mid = (start+end)//2\n",
    "            if isBadVersion(mid) and not isBadVersion(mid-1):\n",
    "                return mid\n",
    "            elif isBadVersion(mid-1):\n",
    "                end = mid-1\n",
    "            else:\n",
    "                start = mid+1\n",
    "first_bad = 4\n",
    "op = Solution().firstBadVersion(5)\n",
    "print(op)"
   ]
  },
  {
   "cell_type": "markdown",
   "id": "13e0f8aa",
   "metadata": {},
   "source": [
    "# Dynamic Programming"
   ]
  },
  {
   "cell_type": "markdown",
   "id": "b7b1e7e4",
   "metadata": {},
   "source": [
    "## Climbing Stairs"
   ]
  },
  {
   "cell_type": "markdown",
   "id": "86eb2641",
   "metadata": {},
   "source": [
    "Examples:\\\n",
    "\\\n",
    "Input: n = 1\\\n",
    "Output: 1\\\n",
    "There is only one way to climb 1 stair\\\n",
    "\\\n",
    "Input: n = 2\\\n",
    "Output: 2\\\n",
    "There are two ways: (1, 1) and (2)\\\n",
    "\\\n",
    "Input: n = 4\\\n",
    "Output: 5\\\n",
    "(1, 1, 1, 1), (1, 1, 2), (2, 1, 1), (1, 2, 1), (2, 2)"
   ]
  },
  {
   "cell_type": "code",
   "execution_count": 95,
   "id": "7c56916d",
   "metadata": {},
   "outputs": [
    {
     "name": "stdout",
     "output_type": "stream",
     "text": [
      "Number of ways =  5\n"
     ]
    }
   ],
   "source": [
    "def fib(n):\n",
    "    if n <= 1:\n",
    "        return n\n",
    "    return fib(n-1) + fib(n-2)\n",
    " \n",
    "# Returns no. of ways to reach sth stair\n",
    "def countWays(s):\n",
    "    return fib(s + 1)\n",
    " \n",
    "# Driver program\n",
    "s = 4\n",
    "print(\"Number of ways = \",countWays(s))"
   ]
  },
  {
   "cell_type": "markdown",
   "id": "9c189559",
   "metadata": {},
   "source": [
    "## Best Time to Buy and Sell Stock"
   ]
  },
  {
   "cell_type": "markdown",
   "id": "d7409af6",
   "metadata": {},
   "source": [
    "Example 1:\\\n",
    "\\\n",
    "Input: prices = [7,1,5,3,6,4]\\\n",
    "Output: 5\\\n",
    "Explanation: Buy on day 2 (price = 1) and sell on day 5 (price = 6), profit = 6-1 = 5.\\\n",
    "Note that buying on day 2 and selling on day 1 is not allowed because you must buy before you sell."
   ]
  },
  {
   "cell_type": "code",
   "execution_count": 181,
   "id": "6cfbf7df",
   "metadata": {},
   "outputs": [
    {
     "data": {
      "text/plain": [
       "5"
      ]
     },
     "execution_count": 181,
     "metadata": {},
     "output_type": "execute_result"
    }
   ],
   "source": [
    "def max_profit(prices):\n",
    "    if not prices:\n",
    "        return 0\n",
    "\n",
    "    max_prof = 0\n",
    "    min_price = prices[0]\n",
    "\n",
    "    for i in range(1, len(prices)):\n",
    "        if prices[i] < min_price:\n",
    "            min_price = prices[i]\n",
    "        max_prof = max(max_prof, prices[i] - min_price)\n",
    "    return max_prof\n",
    "\n",
    "prices = [7,1,5,3,6,4]\n",
    "max_profit(prices)"
   ]
  },
  {
   "cell_type": "markdown",
   "id": "bf84fa49",
   "metadata": {},
   "source": [
    "## House Robber"
   ]
  },
  {
   "attachments": {
    "image.png": {
     "image/png": "[encoded data removed]"
    }
   },
   "cell_type": "markdown",
   "id": "5c721a00",
   "metadata": {},
   "source": [
    "In this problem there are houses in a street and House robber has to rob these houses. But the problem is that he can’t rob more than one house successively i.e which are adjacent to each other. Given a list of non-negative integers representing the amount of money of each house, we have to find out the maximum amount of money he can get.\n",
    "![image.png](attachment:image.png)"
   ]
  },
  {
   "cell_type": "code",
   "execution_count": 101,
   "id": "9477c7fd",
   "metadata": {},
   "outputs": [
    {
     "name": "stdout",
     "output_type": "stream",
     "text": [
      "13\n"
     ]
    }
   ],
   "source": [
    "def rob(nums):\n",
    "\n",
    "    prev2 = 0\n",
    "    prev1 = 0\n",
    "    for i in range(0,len(nums)):\n",
    "        temp = prev1\n",
    "        prev1 = max(prev2+nums[i],prev1)\n",
    "        prev2 = temp\n",
    "    return prev1\n",
    "print(rob([2,7,10,3,1]))"
   ]
  },
  {
   "cell_type": "markdown",
   "id": "7a1b05a7",
   "metadata": {},
   "source": [
    "## Discount Price\n",
    "- Given the array prices where prices[i] is the price of the ith item in a shop.\n",
    "- There is a special discount for items in the shop, if you buy the ith item, then you will receive a discount equivalent to prices[j] where j is the minimum index such that j > i and prices[j] <= prices[i], otherwise, you will not receive any discount at all.\n",
    "- Return an array where the ith element is the final price you will pay for the ith item of the shop considering the special discount."
   ]
  },
  {
   "cell_type": "code",
   "execution_count": 186,
   "id": "75589eb9",
   "metadata": {},
   "outputs": [
    {
     "data": {
      "text/plain": [
       "[4, 2, 4, 2, 3]"
      ]
     },
     "execution_count": 186,
     "metadata": {},
     "output_type": "execute_result"
    }
   ],
   "source": [
    "def discount_price(prices):\n",
    "    \n",
    "    n = len(prices)                   # length\n",
    "      \n",
    "    for i in range(n-1):              # iterate over the array until the (n-1)th element\n",
    "        for j in range(i+1,n):        # from i+1, the next position from i, to the last element\n",
    "            if prices[i]>=prices[j]:  # if prices[j] <= prices[i]:\n",
    "                prices[i]-=prices[j]  # then take a discount prices[j] from prices[i] \n",
    "                break                 # this is the key: break the for loop as long as the first occurrence\n",
    "    return prices\n",
    "\n",
    "# test case\n",
    "prices = [8,4,6,2,3]\n",
    "discount_price(prices)"
   ]
  },
  {
   "cell_type": "markdown",
   "id": "15ede7ec",
   "metadata": {},
   "source": [
    "# Design"
   ]
  },
  {
   "cell_type": "markdown",
   "id": "da51348e",
   "metadata": {},
   "source": [
    "## Shuffle an Array"
   ]
  },
  {
   "cell_type": "markdown",
   "id": "734701a3",
   "metadata": {},
   "source": [
    "Given the array nums consisting of 2n elements in the form [x1,x2,...,xn,y1,y2,...,yn].\\\n",
    "Return the array in the form [x1,y1,x2,y2,...,xn,yn]."
   ]
  },
  {
   "cell_type": "code",
   "execution_count": 194,
   "id": "eb1c9261",
   "metadata": {},
   "outputs": [
    {
     "data": {
      "text/plain": [
       "[2, 3, 5, 4, 1, 7]"
      ]
     },
     "execution_count": 194,
     "metadata": {},
     "output_type": "execute_result"
    }
   ],
   "source": [
    "def shuffle(nums):\n",
    "    n = int(len(nums)/2)\n",
    "    res=[]\n",
    "    for i in range(n):\n",
    "        res.append(nums[i])    \n",
    "        res.append(nums[n+i])\n",
    "    return res\n",
    "shuffle([2,5,1,3,4,7])"
   ]
  },
  {
   "cell_type": "markdown",
   "id": "7fae2b88",
   "metadata": {},
   "source": [
    "## Min Stack"
   ]
  },
  {
   "cell_type": "markdown",
   "id": "69f03ca1",
   "metadata": {},
   "source": [
    "Design a stack that supports push, pop, top, and retrieving the minimum element in constant time."
   ]
  },
  {
   "cell_type": "code",
   "execution_count": null,
   "id": "0cb44c88",
   "metadata": {},
   "outputs": [],
   "source": []
  },
  {
   "cell_type": "markdown",
   "id": "7fa6009b",
   "metadata": {},
   "source": [
    "# Math"
   ]
  },
  {
   "cell_type": "markdown",
   "id": "ea1b9568",
   "metadata": {},
   "source": [
    "## Fizz Buzz"
   ]
  },
  {
   "cell_type": "markdown",
   "id": "62273575",
   "metadata": {},
   "source": [
    "Given an integer n, return a string array answer (1-indexed) where:\\\n",
    "\\\n",
    "answer[i] == \"FizzBuzz\" if i is divisible by 3 and 5.\\\n",
    "answer[i] == \"Fizz\" if i is divisible by 3.\\\n",
    "answer[i] == \"Buzz\" if i is divisible by 5.\\\n",
    "answer[i] == i (as a string) if none of the above conditions are true."
   ]
  },
  {
   "cell_type": "code",
   "execution_count": 112,
   "id": "a57d1c4c",
   "metadata": {},
   "outputs": [
    {
     "name": "stdout",
     "output_type": "stream",
     "text": [
      "['1', '2', 'Fizz', '4', 'Buzz', 'Fizz', '7', '8', 'Fizz', 'Buzz', '11', 'Fizz', '13', '14', 'FizzBuzz', '16', '17', 'Fizz', '19', 'Buzz', 'Fizz', '22', '23', 'Fizz', 'Buzz', '26', 'Fizz', '28', '29', 'FizzBuzz', '31', '32', 'Fizz', '34', 'Buzz', 'Fizz', '37', '38', 'Fizz', 'Buzz', '41', 'Fizz', '43', '44', 'FizzBuzz', '46', '47', 'Fizz', '49', 'Buzz', 'Fizz', '52', '53', 'Fizz', 'Buzz', '56', 'Fizz', '58', '59', 'FizzBuzz', '61', '62', 'Fizz', '64', 'Buzz', 'Fizz', '67', '68', 'Fizz', 'Buzz', '71', 'Fizz', '73', '74', 'FizzBuzz', '76', '77', 'Fizz', '79', 'Buzz', 'Fizz', '82', '83', 'Fizz', 'Buzz', '86', 'Fizz', '88', '89', 'FizzBuzz', '91', '92', 'Fizz', '94', 'Buzz', 'Fizz', '97', '98', 'Fizz', 'Buzz']\n"
     ]
    }
   ],
   "source": [
    "def fizzBuzz(n):\n",
    "    if n<1:\n",
    "        return []\n",
    "    result = []\n",
    "    for i in range(1,n+1):\n",
    "        if i%5==0 and i%3==0:\n",
    "            result.append(\"FizzBuzz\")\n",
    "        elif i%3==0:\n",
    "            result.append('Fizz')\n",
    "        elif i%5==0:\n",
    "            result.append('Buzz')\n",
    "        else:\n",
    "            result.append(str(i))\n",
    "    return result\n",
    "print(fizzBuzz(100))"
   ]
  },
  {
   "cell_type": "markdown",
   "id": "645787c2",
   "metadata": {},
   "source": [
    "## Count Primes"
   ]
  },
  {
   "cell_type": "code",
   "execution_count": 197,
   "id": "0163a413",
   "metadata": {},
   "outputs": [
    {
     "name": "stdout",
     "output_type": "stream",
     "text": [
      "7\n"
     ]
    }
   ],
   "source": [
    "def countPrimes(n):\n",
    "    if n<2: \n",
    "        return 0\n",
    "    prime=[True]*n\n",
    "    prime[0]=prime[1]=False\n",
    "    for i in range(2,n):\n",
    "        if prime[i]:\n",
    "            for j in range(i+i, n, i):\n",
    "                prime[j]=False\n",
    "        return prime.count(True)\n",
    "print(countPrimes(14))"
   ]
  },
  {
   "cell_type": "markdown",
   "id": "d3335328",
   "metadata": {},
   "source": [
    "## Power of Three"
   ]
  },
  {
   "cell_type": "markdown",
   "id": "a5af50ee",
   "metadata": {},
   "source": [
    "Suppose we have a number n. We have to check whether the number is the power of 3 or not. So if the number is like n = 27, that is the power of 3, the result will be true, if n = 15, it will be false."
   ]
  },
  {
   "cell_type": "code",
   "execution_count": 115,
   "id": "143487c5",
   "metadata": {},
   "outputs": [
    {
     "name": "stdout",
     "output_type": "stream",
     "text": [
      "True\n",
      "False\n",
      "True\n"
     ]
    }
   ],
   "source": [
    "import math\n",
    "def isPowerOfThree(n):\n",
    "    \n",
    "    if not n or n<0:\n",
    "        return False\n",
    "    return (math.log10(n)/ math.log10(3)) % 1 == 0\n",
    "\n",
    "print(isPowerOfThree(27))\n",
    "print(isPowerOfThree(15))\n",
    "print(isPowerOfThree(9))"
   ]
  },
  {
   "cell_type": "markdown",
   "id": "e06a1875",
   "metadata": {},
   "source": [
    "## Roman to Integer"
   ]
  },
  {
   "cell_type": "markdown",
   "id": "77b7b270",
   "metadata": {},
   "source": [
    "Numeral\tValue\n",
    "I\t     1\n",
    "V\t      5\n",
    "X\t     10\n",
    "L\t     50\n",
    "C\t     100\n",
    "D\t     500\n",
    "M\t     1000"
   ]
  },
  {
   "cell_type": "code",
   "execution_count": 116,
   "id": "e6a71d6e",
   "metadata": {},
   "outputs": [
    {
     "name": "stdout",
     "output_type": "stream",
     "text": [
      "3\n",
      "443\n"
     ]
    }
   ],
   "source": [
    "def romanToInt(s):\n",
    "    roman = {'I':1,'V':5,'X':10,'L':50,'C':100,'D':500,'M':1000,'IV':4,'IX':9,'XL':40,'XC':90,'CD':400,'CM':900}\n",
    "    i = 0\n",
    "    num = 0\n",
    "    while i < len(s):\n",
    "        if i+1<len(s) and s[i:i+2] in roman:\n",
    "            num+=roman[s[i:i+2]]\n",
    "            i+=2\n",
    "        else:\n",
    "            num+=roman[s[i]]\n",
    "            i+=1\n",
    "    return num\n",
    "print(romanToInt(\"III\"))\n",
    "print(romanToInt(\"CDXLIII\"))"
   ]
  },
  {
   "cell_type": "markdown",
   "id": "638ba304",
   "metadata": {},
   "source": [
    "## Fibonacci Number"
   ]
  },
  {
   "cell_type": "code",
   "execution_count": 29,
   "id": "17461b78",
   "metadata": {
    "scrolled": true
   },
   "outputs": [
    {
     "data": {
      "text/plain": [
       "2"
      ]
     },
     "execution_count": 29,
     "metadata": {},
     "output_type": "execute_result"
    }
   ],
   "source": [
    "def fibonacci(n):\n",
    "    if n <= 1:\n",
    "        return n\n",
    "    return fibonacci(n-1)+fibonacci(n-2)\n",
    "\n",
    "fibonacci(n=3)"
   ]
  },
  {
   "cell_type": "markdown",
   "id": "edc75252",
   "metadata": {},
   "source": [
    "## Matrix Diagonal Sum"
   ]
  },
  {
   "cell_type": "code",
   "execution_count": 35,
   "id": "f5aae67f",
   "metadata": {},
   "outputs": [
    {
     "data": {
      "text/plain": [
       "8"
      ]
     },
     "execution_count": 35,
     "metadata": {},
     "output_type": "execute_result"
    }
   ],
   "source": [
    "def diagonal_sum(mat):\n",
    "    n = len(mat)\n",
    "    output = 0\n",
    "    for i in range(n):\n",
    "        output = output+mat[i][i]\n",
    "        if i!=n-i-1:\n",
    "            output = output+mat[i][n-i-1]\n",
    "    return output\n",
    "\n",
    "# test case \n",
    "mat = [[1,1,1,1],\n",
    "       [1,1,1,1],\n",
    "       [1,1,1,1],\n",
    "       [1,1,1,1]]\n",
    "\n",
    "diagonal_sum(mat)"
   ]
  },
  {
   "cell_type": "markdown",
   "id": "17a73a5b",
   "metadata": {},
   "source": [
    "## Two Sum"
   ]
  },
  {
   "cell_type": "code",
   "execution_count": 199,
   "id": "f4944e89",
   "metadata": {},
   "outputs": [
    {
     "name": "stdout",
     "output_type": "stream",
     "text": [
      "[2, 1]\n"
     ]
    }
   ],
   "source": [
    "def twoSum(nums, target):\n",
    "    \n",
    "    mapping = {}\n",
    "    for index, val in enumerate(nums):\n",
    "        diff = target - val\n",
    "        if diff in mapping:\n",
    "            return [index, mapping[diff]]\n",
    "        else:\n",
    "            mapping[val] = index\n",
    "print(twoSum([2,8,12,15], 20))\n",
    "## o(n2)"
   ]
  },
  {
   "cell_type": "code",
   "execution_count": 201,
   "id": "fd4c0e38",
   "metadata": {},
   "outputs": [
    {
     "name": "stdout",
     "output_type": "stream",
     "text": [
      "[1, 2]\n"
     ]
    }
   ],
   "source": [
    "def twoSum(nums, target):\n",
    "    \"\"\"\n",
    "    :type nums: List[int]\n",
    "    :type target: int\n",
    "    :rtype: List[int]\n",
    "    \"\"\"\n",
    "    required = {}\n",
    "    for i in range(len(nums)):\n",
    "        if target - nums[i] in required:\n",
    "            return [required[target - nums[i]],i]\n",
    "        else:\n",
    "            required[nums[i]]=i\n",
    "input_list = [2,8,12,15]\n",
    "print(twoSum(input_list, 20))\n",
    "## o(n)"
   ]
  },
  {
   "cell_type": "markdown",
   "id": "ead3732f",
   "metadata": {},
   "source": [
    "# Other Question"
   ]
  },
  {
   "cell_type": "markdown",
   "id": "c9ef61a8",
   "metadata": {},
   "source": [
    "## Deduplication"
   ]
  },
  {
   "cell_type": "markdown",
   "id": "02ad7973",
   "metadata": {},
   "source": [
    "## Intersection"
   ]
  },
  {
   "cell_type": "markdown",
   "id": "ce60bd88",
   "metadata": {},
   "source": [
    "## Addition"
   ]
  },
  {
   "cell_type": "markdown",
   "id": "d9b45278",
   "metadata": {},
   "source": [
    "## Sort by custom alphabet"
   ]
  },
  {
   "cell_type": "markdown",
   "id": "abc04048",
   "metadata": {},
   "source": [
    "## Check if a tree is a binary search tree"
   ]
  },
  {
   "cell_type": "markdown",
   "id": "7b7012b4",
   "metadata": {},
   "source": [
    "# Ace the Data Science Interview"
   ]
  },
  {
   "cell_type": "markdown",
   "id": "7c2dcbda",
   "metadata": {},
   "source": [
    "## Binary Search"
   ]
  },
  {
   "cell_type": "markdown",
   "id": "b62b476c",
   "metadata": {},
   "source": [
    "Search for a particular value within a sorted array. "
   ]
  },
  {
   "cell_type": "markdown",
   "id": "e9178811",
   "metadata": {},
   "source": [
    "### Recursive"
   ]
  },
  {
   "cell_type": "markdown",
   "id": "7ebd73b7",
   "metadata": {},
   "source": [
    " This is where you write a function that calls itself again and again until an element in a list is found. The recursive method uses the divide and conquer approach that we discussed earlier and repeats the process of searching until an element is found."
   ]
  },
  {
   "cell_type": "code",
   "execution_count": 2,
   "id": "9d1035ed",
   "metadata": {},
   "outputs": [
    {
     "data": {
      "text/plain": [
       "3"
      ]
     },
     "execution_count": 2,
     "metadata": {},
     "output_type": "execute_result"
    }
   ],
   "source": [
    "def binary_search(arr, low, high, x):\n",
    "    if high >= low:\n",
    "        mid = (high + low) // 2\n",
    "        if arr[mid] == x:\n",
    "            return mid\n",
    "        elif arr[mid] > x:\n",
    "            return binary_search(arr, low, mid - 1, x)\n",
    "        else: \n",
    "            return binary_search(arr, mid + 1, high, x)\n",
    "    else:\n",
    "        return -1\n",
    "\n",
    "arr = [2, 3, 4, 10, 40]\n",
    "x = 10\n",
    "binary_search(arr, 0, len(arr)-1, x)"
   ]
  },
  {
   "cell_type": "markdown",
   "id": "fd9bb10d",
   "metadata": {},
   "source": [
    "### Iterative O(logN)"
   ]
  },
  {
   "cell_type": "markdown",
   "id": "87d1bab2",
   "metadata": {},
   "source": [
    "In this approach, a set of statements are repeated to determine the position of an element in an array. In Python, we use a while loop for this purpose."
   ]
  },
  {
   "cell_type": "code",
   "execution_count": 2,
   "id": "2550ecfd",
   "metadata": {},
   "outputs": [
    {
     "data": {
      "text/plain": [
       "3"
      ]
     },
     "execution_count": 2,
     "metadata": {},
     "output_type": "execute_result"
    }
   ],
   "source": [
    "def binary_search(arr, x):\n",
    "    low = 0\n",
    "    high = len(arr) - 1\n",
    "    while low <= high:\n",
    "        mid = (high + low) // 2\n",
    "        if arr[mid] < x:\n",
    "            low = mid + 1\n",
    "        elif arr[mid] > x:\n",
    "            high = mid - 1\n",
    "        else: ## mid = x\n",
    "            return mid   \n",
    "    return -1\n",
    "\n",
    "arr = [2, 3, 4, 10, 40]\n",
    "x = 10\n",
    "binary_search(arr, x)"
   ]
  },
  {
   "cell_type": "markdown",
   "id": "077d3eff",
   "metadata": {},
   "source": [
    "### Iterative-Best O(logN)"
   ]
  },
  {
   "cell_type": "code",
   "execution_count": 4,
   "id": "a1ceff16",
   "metadata": {},
   "outputs": [
    {
     "data": {
      "text/plain": [
       "2"
      ]
     },
     "execution_count": 4,
     "metadata": {},
     "output_type": "execute_result"
    }
   ],
   "source": [
    "def binary_search(arr, x):\n",
    "    low = 0\n",
    "    high = len(arr) - 1\n",
    "    best = low\n",
    "    while low <= high:\n",
    "        mid = (high + low) // 2\n",
    "        if arr[mid] < x:\n",
    "            low = mid + 1\n",
    "        elif arr[mid] > x:\n",
    "            high = mid - 1\n",
    "        else:\n",
    "            best = mid\n",
    "            break\n",
    "        if abs(arr[mid]-x) < abs(arr[best]-x):\n",
    "            best = mid    \n",
    "        return best\n",
    "\n",
    "arr = [2, 3, 4, 10, 40]\n",
    "x = 10\n",
    "binary_search(arr, x)"
   ]
  },
  {
   "cell_type": "markdown",
   "id": "c749c9c0",
   "metadata": {},
   "source": [
    "## Arrays"
   ]
  },
  {
   "cell_type": "markdown",
   "id": "64a08e1a",
   "metadata": {},
   "source": [
    "### Move Negative to the end O(N)"
   ]
  },
  {
   "cell_type": "code",
   "execution_count": null,
   "id": "35c39a30",
   "metadata": {},
   "outputs": [],
   "source": [
    "negative_count = len(list(filter(lambda x: (x >= 0), list1)))"
   ]
  },
  {
   "cell_type": "code",
   "execution_count": 10,
   "id": "4d7f9bc6",
   "metadata": {},
   "outputs": [
    {
     "data": {
      "text/plain": [
       "[1, 7, 5, 11, 6, -1, -3, -2]"
      ]
     },
     "execution_count": 10,
     "metadata": {},
     "output_type": "execute_result"
    }
   ],
   "source": [
    "def solution(arr):\n",
    "    n = len(arr)\n",
    "    ans = [None]*n\n",
    "    i = 0\n",
    "    j = n-1\n",
    "    \n",
    "    for k in range(n):\n",
    "        if arr[k] >= 0:\n",
    "            ans[i] = arr[k]\n",
    "            i += 1\n",
    "        else:\n",
    "            ans[j] = arr[k]\n",
    "            j -= 1\n",
    "    ans[i:] = ans[n-1:i-1:-1]  #a[start:stop:step]\n",
    "    return ans\n",
    " \n",
    "arr = [1, -1, -3, -2, 7, 5, 11, 6]\n",
    "solution(arr)"
   ]
  },
  {
   "cell_type": "markdown",
   "id": "31144c09",
   "metadata": {},
   "source": [
    "Moving Zeros"
   ]
  },
  {
   "cell_type": "code",
   "execution_count": 29,
   "id": "11c926ba",
   "metadata": {},
   "outputs": [
    {
     "data": {
      "text/plain": [
       "[1, 7, 8, 10, 12, 4, 0, 0, 0, 0]"
      ]
     },
     "execution_count": 29,
     "metadata": {},
     "output_type": "execute_result"
    }
   ],
   "source": [
    "def solution(nums):\n",
    "    for i in nums:\n",
    "        if 0 in nums:\n",
    "            nums.remove(0)\n",
    "            nums.append(0)\n",
    "    return nums\n",
    "\n",
    "array2 = [1,7,0,0,8,0,10,12,0,4]\n",
    "solution(array2)"
   ]
  },
  {
   "cell_type": "markdown",
   "id": "c7212945",
   "metadata": {},
   "source": [
    "### Merge two sorted arrays O(n1+n2)"
   ]
  },
  {
   "cell_type": "code",
   "execution_count": null,
   "id": "05b95d89",
   "metadata": {},
   "outputs": [],
   "source": [
    "def solution(arr1, arr2, n1, n2):\n",
    "    arr3 = [None] * (n1 + n2)\n",
    "    i = 0\n",
    "    j = 0\n",
    "    k = 0\n",
    "\n",
    "    while i < n1 and j < n2:\n",
    "        if arr1[i] < arr2[j]:\n",
    "            arr3[k] = arr1[i]\n",
    "            k = k + 1\n",
    "            i = i + 1\n",
    "        else:\n",
    "            arr3[k] = arr2[j]\n",
    "            k = k + 1\n",
    "            j = j + 1\n",
    "\n",
    "    while i < n1:    # what's left in n1 \n",
    "        arr3[k] = arr1[i]\n",
    "        k = k + 1\n",
    "        i = i + 1\n",
    "\n",
    "    while j < n2:   # what's left in n2\n",
    "        arr3[k] = arr2[j]\n",
    "        k = k + 1\n",
    "        j = j + 1\n",
    "    print(\"Array after merging\")\n",
    "    for i in range(n1 + n2):\n",
    "        print(str(arr3[i]), end = \" \")\n",
    "\n",
    "arr1 = [1, 3, 5, 7]\n",
    "n1 = len(arr1)\n",
    " \n",
    "arr2 = [2, 4, 6, 8]\n",
    "n2 = len(arr2)\n",
    "solution(arr1, arr2, n1, n2)"
   ]
  },
  {
   "cell_type": "markdown",
   "id": "3e6f9a3f",
   "metadata": {},
   "source": [
    "### Longest Consecutive Subsequence O(nlogN)"
   ]
  },
  {
   "cell_type": "markdown",
   "id": "77479062",
   "metadata": {},
   "source": [
    "Given an array of integers, find the length of the longest sub-sequence such that elements in the subsequence are consecutive integers, the consecutive numbers can be in any order. "
   ]
  },
  {
   "cell_type": "code",
   "execution_count": 19,
   "id": "43901111",
   "metadata": {},
   "outputs": [
    {
     "data": {
      "text/plain": [
       "3"
      ]
     },
     "execution_count": 19,
     "metadata": {},
     "output_type": "execute_result"
    }
   ],
   "source": [
    "def solution(arr):\n",
    "    n = len(arr)\n",
    "    ans = 0\n",
    "    count = 0\n",
    "    arr.sort()\n",
    "    v = []\n",
    "    v.append(arr[0])\n",
    "  \n",
    "    for i in range(1, n):\n",
    "        if (arr[i] != arr[i - 1]):\n",
    "            v.append(arr[i])\n",
    "  \n",
    "    for i in range(len(v)):  # Find the maximum length by traversing the array \n",
    "        if (i > 0 and v[i] == v[i - 1] + 1):  # previous element + 1\n",
    "            count += 1\n",
    "        else:\n",
    "            count = 1\n",
    "        ans = max(ans, count)          \n",
    "    return ans\n",
    " \n",
    "arr = [1, 2, 2, 3]\n",
    "solution(arr)"
   ]
  },
  {
   "cell_type": "code",
   "execution_count": 20,
   "id": "9c0c67f7",
   "metadata": {},
   "outputs": [
    {
     "data": {
      "text/plain": [
       "3"
      ]
     },
     "execution_count": 20,
     "metadata": {},
     "output_type": "execute_result"
    }
   ],
   "source": [
    "## hashmap O(n)\n",
    "def findLongestConseqSubseq(arr):\n",
    "  \n",
    "    s = set()\n",
    "    ans = 0\n",
    "    n = len(arr)\n",
    "  \n",
    "    # Hash all the array elements\n",
    "    for ele in arr:\n",
    "        s.add(ele)\n",
    "    # check each possible sequence from the start then update optimal length\n",
    "    for i in range(n):\n",
    "         # if current element is the starting element of a sequence\n",
    "        if (arr[i]-1) not in s:\n",
    "            # Then check for next elements in the sequence\n",
    "            j = arr[i]\n",
    "            while(j in s):\n",
    "                j += 1\n",
    "            # update  optimal length if this length is more\n",
    "            ans = max(ans, j-arr[i])\n",
    "    return ans\n",
    "\n",
    "arr = [1, 2, 2, 3]\n",
    "findLongestConseqSubseq(arr)"
   ]
  },
  {
   "cell_type": "markdown",
   "id": "22f9baa4",
   "metadata": {},
   "source": [
    "### Largest Sum Contiguous Subarray O(n)"
   ]
  },
  {
   "cell_type": "markdown",
   "id": "cdf6c5a1",
   "metadata": {},
   "source": [
    "find the sum of the contiguous subarray within a one-dimensional array of numbers that has the largest sum. "
   ]
  },
  {
   "cell_type": "code",
   "execution_count": 20,
   "id": "675dac5f",
   "metadata": {},
   "outputs": [
    {
     "name": "stdout",
     "output_type": "stream",
     "text": [
      "-3\n"
     ]
    }
   ],
   "source": [
    "from math import inf\n",
    "maxint = inf\n",
    "def maxSubArraySum(arr):\n",
    "      \n",
    "    max_so_far = -maxint - 1\n",
    "    max_ending_here = 0\n",
    "    \n",
    "    for i in range(0, len(arr)):\n",
    "        max_ending_here = max_ending_here + a[i]\n",
    "        if (max_so_far < max_ending_here):\n",
    "            max_so_far = max_ending_here\n",
    " \n",
    "        if max_ending_here < 0:\n",
    "            max_ending_here = 0  \n",
    "    return max_so_far\n",
    "  \n",
    "arr = [-13, -3, -25, -20, -3, -16, -23, -12, -5, -22, -15, -4, -7]\n",
    "print (maxSubArraySum(arr))"
   ]
  },
  {
   "cell_type": "markdown",
   "id": "56102947",
   "metadata": {},
   "source": [
    "## Linked Lists"
   ]
  },
  {
   "cell_type": "markdown",
   "id": "ec511e06",
   "metadata": {},
   "source": [
    "### Reverse Linked List"
   ]
  },
  {
   "cell_type": "code",
   "execution_count": null,
   "id": "5b009c8c",
   "metadata": {},
   "outputs": [],
   "source": [
    "class LinkedList:\n",
    "    def __int__(self):\n",
    "        self.head = None\n",
    "        \n",
    "    def reverse(self):\n",
    "        prev = None\n",
    "        curr = self.head\n",
    "        while curr:\n",
    "            next = curr.next\n",
    "            curr.next = prev\n",
    "            prev = curr\n",
    "            curr = next\n",
    "        self.head = prev"
   ]
  },
  {
   "cell_type": "markdown",
   "id": "6e9f247c",
   "metadata": {},
   "source": [
    "## Stacks & Queues"
   ]
  },
  {
   "cell_type": "markdown",
   "id": "44602d5b",
   "metadata": {},
   "source": [
    "Use a stack to determine whether a string has balanced parentheses."
   ]
  },
  {
   "cell_type": "code",
   "execution_count": 22,
   "id": "ccdeec59",
   "metadata": {},
   "outputs": [
    {
     "name": "stdout",
     "output_type": "stream",
     "text": [
      "False\n",
      "False\n"
     ]
    }
   ],
   "source": [
    "def balance(s):\n",
    "    left_side = [\"(\",\"{\",\"[\"]\n",
    "    right_side = [\")\",\"}\",\"]\"]\n",
    "    stack = []\n",
    "    for i in s:\n",
    "        if i in left_side:\n",
    "            stack.append(i)\n",
    "        elif i in right_side:\n",
    "            pos = right_side.index(i)\n",
    "            if len(stack) == 0 or (left_side[pos] != stack[len(stack)-1]):\n",
    "                return False\n",
    "        else:\n",
    "            stack.pop() # remove and continue\n",
    "        if len(stack) == 0:\n",
    "            return True\n",
    "        else:\n",
    "            return False\n",
    "s = \"({}((){}))\"\n",
    "s1 = \"{}{})\"\n",
    "print(balance(s))\n",
    "print(balance(s1))"
   ]
  },
  {
   "cell_type": "markdown",
   "id": "e60319a9",
   "metadata": {},
   "source": [
    "## Hash Map"
   ]
  },
  {
   "cell_type": "markdown",
   "id": "dd655c0b",
   "metadata": {},
   "source": [
    "### Two sum Hash Map O(N)"
   ]
  },
  {
   "cell_type": "code",
   "execution_count": 13,
   "id": "98f27c99",
   "metadata": {},
   "outputs": [
    {
     "data": {
      "text/plain": [
       "(0, 3)"
      ]
     },
     "execution_count": 13,
     "metadata": {},
     "output_type": "execute_result"
    }
   ],
   "source": [
    "def two_sum(arr, target):\n",
    "    hash = {} # create dictionary\n",
    "    for i,value in enumerate(arr):\n",
    "            if(target - value in hash):\n",
    "                return(hash[target - value],i)\n",
    "            else:\n",
    "                hash[value] = i\n",
    "\n",
    "two_sum([1,3,5,9],10)"
   ]
  },
  {
   "cell_type": "markdown",
   "id": "43256710",
   "metadata": {},
   "source": [
    "### Find unions or intersection of two lists"
   ]
  },
  {
   "cell_type": "code",
   "execution_count": 10,
   "id": "ca6f92e1",
   "metadata": {},
   "outputs": [
    {
     "name": "stdout",
     "output_type": "stream",
     "text": [
      "[10, 10, 14, 56]\n"
     ]
    }
   ],
   "source": [
    "def intersection(nums1 , nums2):\n",
    "    result =  []\n",
    "    hash = {}\n",
    "\n",
    "    for value in nums1:\n",
    "        if value in hash: \n",
    "            hash[value] += 1\n",
    "        else:\n",
    "            hash[value] = 1   \n",
    "    for value in nums2:\n",
    "            if value in hash:\n",
    "                result.append(value)\n",
    "                hash[value] -= 1\n",
    "                if hash[value] == 0:\n",
    "                    del hash[value]\n",
    "    return result\n",
    "\n",
    "\n",
    "nums1 = [10, 10, 25, 14, 14, 14, 56]\n",
    "nums2 = [10, 10, 14, 23, 34, 56]\n",
    "\n",
    "print(intersection(nums1, nums2))"
   ]
  },
  {
   "cell_type": "code",
   "execution_count": null,
   "id": "f05b68cd",
   "metadata": {},
   "outputs": [],
   "source": [
    "## Two lists\n",
    "def Union(lst1, lst2):\n",
    "    final_list = list(set(lst1) | set(lst2))\n",
    "    return final_list"
   ]
  },
  {
   "cell_type": "code",
   "execution_count": null,
   "id": "4320ac35",
   "metadata": {},
   "outputs": [],
   "source": [
    "## More than two lists\n",
    "def Union(lst1, lst2, lst3):\n",
    "    final_list = list(set().union(lst1, lst2, lst3))\n",
    "    return final_list"
   ]
  },
  {
   "cell_type": "markdown",
   "id": "8be598ac",
   "metadata": {},
   "source": [
    "### Find the frequency of each element in a list"
   ]
  },
  {
   "cell_type": "code",
   "execution_count": null,
   "id": "69ef065a",
   "metadata": {},
   "outputs": [],
   "source": [
    "def CountFrequency(my_list):\n",
    " \n",
    "    # Creating an empty dictionary\n",
    "    freq = {}\n",
    "    for item in my_list:\n",
    "        if (item in freq):\n",
    "            freq[item] += 1\n",
    "        else:\n",
    "            freq[item] = 1\n",
    " \n",
    "    for key, value in freq.items():\n",
    "        print (\"% d : % d\"%(key, value))"
   ]
  },
  {
   "cell_type": "markdown",
   "id": "ac53eb0e",
   "metadata": {},
   "source": [
    "### Find four elements a,b,c,d in a list such that a+b=c+d O(n2logn)"
   ]
  },
  {
   "cell_type": "code",
   "execution_count": 18,
   "metadata": {},
   "outputs": [
    {
     "name": "stdout",
     "output_type": "stream",
     "text": [
      "(3, 8) and (4, 7)\n"
     ]
    }
   ],
   "source": [
    "def find_pair_of_sum(arr: list, n: int):\n",
    "    map = {}\n",
    " \n",
    "    for i in range(n):\n",
    "        for j in range(i+1, n):\n",
    "            sum = arr[i] + arr[j]\n",
    " \n",
    "            if sum in map:\n",
    "                print(f\"{map[sum]} and ({arr[i]}, {arr[j]})\")\n",
    "                return\n",
    "            else:\n",
    "                map[sum] = (arr[i], arr[j])\n",
    "arr = [3, 4, 7, 1, 2, 9, 8]\n",
    "n = len(arr)\n",
    "find_pair_of_sum(arr,n)"
   ]
  },
  {
   "cell_type": "markdown",
   "id": "2b8a4dc1",
   "metadata": {},
   "source": [
    "## Greedy Algorithm"
   ]
  },
  {
   "cell_type": "markdown",
   "id": "5a1737b9",
   "metadata": {},
   "source": [
    "Use as many coins of the highest denomination as possible(two quaters for 67 cents)"
   ]
  },
  {
   "cell_type": "code",
   "execution_count": 26,
   "id": "c35140a2",
   "metadata": {},
   "outputs": [
    {
     "data": {
      "text/plain": [
       "[25, 25, 10, 5, 1, 1]"
      ]
     },
     "execution_count": 26,
     "metadata": {},
     "output_type": "execute_result"
    }
   ],
   "source": [
    "def minCoins(k):\n",
    "    coins = [1, 5, 10, 25]\n",
    "    n = len(coins)\n",
    "    res = []\n",
    "    i = n-1\n",
    "    while(i >= 0 and k >= 0):\n",
    "        if k >= coins[i]:\n",
    "            k -= coins[i]\n",
    "            res.append(coins[i])\n",
    "        else:\n",
    "            i -= 1\n",
    "    return res\n",
    "\n",
    "minCoins(67)"
   ]
  },
  {
   "cell_type": "code",
   "execution_count": null,
   "id": "5f23a18e",
   "metadata": {},
   "outputs": [],
   "source": [
    "info_gains = [getInfoGain(feature) for feature in features]\n",
    "best_feature_index = np.argmax(info_gains)\n",
    "best_feature = feature[best_feature_index]"
   ]
  },
  {
   "cell_type": "markdown",
   "id": "71ff0316",
   "metadata": {},
   "source": [
    "## Dynamic Programming (DP)"
   ]
  },
  {
   "cell_type": "code",
   "execution_count": null,
   "id": "27847b17",
   "metadata": {},
   "outputs": [],
   "source": [
    "dp = [0] * 1000\n",
    "def fib(n):\n",
    "    if n == 0 or n == 1:\n",
    "        return n\n",
    "    else:\n",
    "        dp[n] = fib(n-1) + fib(n-2)\n",
    "        return dp[n]"
   ]
  },
  {
   "cell_type": "code",
   "execution_count": null,
   "id": "33aa94ff",
   "metadata": {},
   "outputs": [],
   "source": [
    "def fib(n):\n",
    "    dp = [0 for _ in range(n+1)]\n",
    "    dp[1] = 1\n",
    "    for i in range(2, n+1):\n",
    "        dp[i] = dp[i-1] + dp[i-2]\n",
    "    return dp[n]"
   ]
  },
  {
   "cell_type": "markdown",
   "id": "fd2023fb",
   "metadata": {},
   "source": [
    "## Matrix Multiplication"
   ]
  },
  {
   "cell_type": "code",
   "execution_count": null,
   "id": "68fc13fa",
   "metadata": {},
   "outputs": [],
   "source": [
    "def matrix_multiply(A, B):\n",
    "    m = [[0 for row in range(len(B[0]))] for col in range(len(A))]\n",
    "    for i in range(len(A)):\n",
    "        for j in range(len(B[0])):\n",
    "            for k in range(len(B)):\n",
    "                m[i][j] = m[i][j] + A[i][k] * B[k][j]\n",
    "    return m"
   ]
  },
  {
   "cell_type": "markdown",
   "id": "d8c9740e",
   "metadata": {},
   "source": [
    "## Interview Questions"
   ]
  },
  {
   "cell_type": "markdown",
   "id": "2c761e41",
   "metadata": {},
   "source": [
    "### Amazon: Matched List"
   ]
  },
  {
   "cell_type": "markdown",
   "id": "b0c0c4f3",
   "metadata": {},
   "source": [
    "Given two arrays, get intersection of the two. "
   ]
  },
  {
   "cell_type": "code",
   "execution_count": 39,
   "id": "d7c155d8",
   "metadata": {},
   "outputs": [
    {
     "data": {
      "text/plain": [
       "[1, 3]"
      ]
     },
     "execution_count": 39,
     "metadata": {},
     "output_type": "execute_result"
    }
   ],
   "source": [
    "def solution(A, B):\n",
    "    set_a = set(A)\n",
    "    set_b = set(B)\n",
    "    intersection = set_a & set_b # if unmatched, it's ^\n",
    "    return list(intersection)\n",
    "A = [1,2,3,4,5]\n",
    "B = [0,1,3,7]\n",
    "solution(A,B)"
   ]
  },
  {
   "cell_type": "code",
   "execution_count": 6,
   "id": "02e9f87a",
   "metadata": {},
   "outputs": [
    {
     "data": {
      "text/plain": [
       "[1, 3]"
      ]
     },
     "execution_count": 6,
     "metadata": {},
     "output_type": "execute_result"
    }
   ],
   "source": [
    "def solution(A, B):\n",
    "    set_a = set(A)\n",
    "    set_b = set(B)\n",
    "    if len(set_a) < len(set_b):\n",
    "        return [x for x in set_a if x in set_b]\n",
    "    else:\n",
    "        return [x for x in set_b if x in set_a]\n",
    "    \n",
    "A = [1,2,3,4,5]\n",
    "B = [0,1,3,7]\n",
    "solution(A,B)"
   ]
  },
  {
   "cell_type": "markdown",
   "id": "3425652c",
   "metadata": {},
   "source": [
    "### D.E.Shaw: Maximum of Product"
   ]
  },
  {
   "cell_type": "markdown",
   "id": "b76e8db9",
   "metadata": {},
   "source": [
    "Return the maximum product of two three numbers in the array"
   ]
  },
  {
   "cell_type": "code",
   "execution_count": 4,
   "id": "01fff22e",
   "metadata": {},
   "outputs": [
    {
     "name": "stdout",
     "output_type": "stream",
     "text": [
      "60\n",
      "40\n"
     ]
    }
   ],
   "source": [
    "import sys\n",
    "def solution(arr):\n",
    " \n",
    "    n = len(arr)\n",
    "    if n < 3:\n",
    "        return -1  # if size is less than 3, no triplet exists\n",
    " \n",
    "    max_product = -(sys.maxsize - 1) # will contain max product\n",
    "\n",
    "    for i in range(0, n - 2):\n",
    "        for j in range(i + 1, n - 1):\n",
    "            for k in range(j + 1, n):\n",
    "                max_product = max(max_product, arr[i] * arr[j] * arr[k])\n",
    " \n",
    "    return max_product\n",
    "\n",
    "A = [1,3,4,5]\n",
    "B = [-2,-4,5,3]\n",
    "print(solution(A))\n",
    "print(solution(B))"
   ]
  },
  {
   "cell_type": "markdown",
   "id": "378948fe",
   "metadata": {},
   "source": [
    "### Facebook: Find the K closest coordinates"
   ]
  },
  {
   "cell_type": "markdown",
   "id": "d39ac13a",
   "metadata": {},
   "source": [
    "Find the k closest points(measured by Euclidean distance) to the origin"
   ]
  },
  {
   "cell_type": "code",
   "execution_count": 7,
   "id": "43b4bea8",
   "metadata": {},
   "outputs": [
    {
     "data": {
      "text/plain": [
       "[[-1, -1], [2, -1], [-2, 2]]"
      ]
     },
     "execution_count": 7,
     "metadata": {},
     "output_type": "execute_result"
    }
   ],
   "source": [
    "def solution(points, k):\n",
    "    points.sort(key = lambda k: k[0]**2 + k[1]**2)\n",
    "    return points[:k]\n",
    "\n",
    "points = [[2,-1], [3,2],[4,1],[-1,-1],[-2,2]]\n",
    "k = 3\n",
    "solution(points, k)"
   ]
  },
  {
   "cell_type": "code",
   "execution_count": null,
   "id": "9d88fbce",
   "metadata": {},
   "outputs": [],
   "source": []
  },
  {
   "cell_type": "markdown",
   "id": "89cbb910",
   "metadata": {},
   "source": [
    "# Meta/Facebook"
   ]
  },
  {
   "cell_type": "markdown",
   "id": "5ad8f328",
   "metadata": {},
   "source": [
    "## Valid IP Address"
   ]
  },
  {
   "cell_type": "markdown",
   "id": "4948df1d",
   "metadata": {},
   "source": [
    "Check if a given IP address is valid. A valid IP address must be in the form of xxx.xxx.xxx.xxx, \\\n",
    "where xxx is a number from 0-255\\\n",
    "Note: We recommend you do NOT use regex to solve this question.\n"
   ]
  },
  {
   "cell_type": "code",
   "execution_count": 218,
   "id": "4a3328af",
   "metadata": {},
   "outputs": [
    {
     "name": "stdout",
     "output_type": "stream",
     "text": [
      "False\n",
      "False\n",
      "True\n"
     ]
    }
   ],
   "source": [
    "def solution(nums):\n",
    "    num_list = nums.split(\".\")\n",
    "    if len(num_list) != 4:\n",
    "        return False\n",
    "    for i in range(len(num_list)):\n",
    "        if int(num_list[i])<0 or int(num_list[i])>255:\n",
    "            return False\n",
    "        else:\n",
    "            return True\n",
    "print(solution(\"256.1.2.3.4\"))\n",
    "print(solution(\"245.1.2\"))\n",
    "print(solution(\"254.1.2.4\"))"
   ]
  },
  {
   "cell_type": "markdown",
   "id": "97bf227e",
   "metadata": {},
   "source": [
    "## Relationship Graph"
   ]
  },
  {
   "cell_type": "markdown",
   "id": "9cc903b2",
   "metadata": {},
   "source": [
    "Calculate the number of friends for each persongiven a relationship graph."
   ]
  },
  {
   "cell_type": "markdown",
   "id": "3f3b07b5",
   "metadata": {},
   "source": [
    "For example: \n",
    "The relationships amongst a set of friends are shown in the graph below, where a line\n",
    "between 2 nodes represents a friendship:\n",
    "\n",
    "                A ----- B ----- D\n",
    "                |       |\n",
    "                |       |\n",
    "                |       |\n",
    "                C ------/       E\n",
    "This graph is represented as a list of lists:\\\n",
    "graph = [[A,B],[A,C],[C,B],[B,D],[E]]\\\n",
    "In the above example, the function should return the following output:\\\n",
    "{'A': 2, 'B': 3, 'C': 2, 'D': 1, 'E': 0}"
   ]
  },
  {
   "cell_type": "code",
   "execution_count": null,
   "id": "474d0fef",
   "metadata": {},
   "outputs": [],
   "source": [
    "def check_results(dict1, dict2):\n",
    "    if len(dict1.keys()) != len(dict2.keys()):\n",
    "        return 1\n",
    "    for i in dict1.keys():\n",
    "        if dict1[i] != dict2[i]:\n",
    "            return 1\n",
    "    return 0"
   ]
  },
  {
   "cell_type": "markdown",
   "id": "3c531e3e",
   "metadata": {},
   "source": [
    "## Odd Position"
   ]
  },
  {
   "cell_type": "markdown",
   "id": "1a1e9dfb",
   "metadata": {},
   "source": [
    "Write a function that returns the elements on odd positions (0 based) in a list"
   ]
  },
  {
   "cell_type": "code",
   "execution_count": 227,
   "id": "67ff42ca",
   "metadata": {},
   "outputs": [
    {
     "name": "stdout",
     "output_type": "stream",
     "text": [
      "[1, 3, 5]\n"
     ]
    }
   ],
   "source": [
    "def solution(nums):\n",
    "    res = []\n",
    "    for i in range(len(nums)):\n",
    "        if i%2==0:\n",
    "            res.append(nums[i])\n",
    "    return res\n",
    "        \n",
    "print(solution([1,2,3,4,5,6]))"
   ]
  },
  {
   "cell_type": "markdown",
   "id": "145f6173",
   "metadata": {},
   "source": [
    "## Cumulative Sum"
   ]
  },
  {
   "cell_type": "markdown",
   "id": "630070ed",
   "metadata": {},
   "source": [
    "Write a function that returns the cumulative sum of elements in a list"
   ]
  },
  {
   "cell_type": "code",
   "execution_count": null,
   "id": "6a0f6653",
   "metadata": {},
   "outputs": [],
   "source": [
    "csum = [sum(a[:x]) for x in range(len(a)+1)]"
   ]
  },
  {
   "cell_type": "code",
   "execution_count": 236,
   "id": "1034b096",
   "metadata": {},
   "outputs": [
    {
     "name": "stdout",
     "output_type": "stream",
     "text": [
      "[1, 3, 6, 10, 15, 21]\n"
     ]
    }
   ],
   "source": [
    "def solution(nums):\n",
    "    csum = []\n",
    "    for i in range(0, len(nums)+1):\n",
    "        csum.append(sum(nums[0:i:1]))\n",
    "    return csum[1:]\n",
    "print(solution([1,2,3,4,5,6]))"
   ]
  },
  {
   "cell_type": "code",
   "execution_count": 238,
   "id": "b03d70b8",
   "metadata": {},
   "outputs": [
    {
     "name": "stdout",
     "output_type": "stream",
     "text": [
      "[1, 3, 6, 10, 15, 21]\n"
     ]
    }
   ],
   "source": [
    "def solution(nums):\n",
    "    csum = []\n",
    "    csum = [sum(nums[0:x:1]) for x in range(0,len(nums)+1)]\n",
    "    return csum[1:]\n",
    "print(solution([1,2,3,4,5,6]))"
   ]
  },
  {
   "cell_type": "markdown",
   "id": "0217174c",
   "metadata": {},
   "source": [
    "## Number list of digits"
   ]
  },
  {
   "cell_type": "markdown",
   "id": "bdeb9b12",
   "metadata": {},
   "source": [
    "Write a function that takes a number and returns a list of its digits\n"
   ]
  },
  {
   "cell_type": "code",
   "execution_count": 13,
   "id": "53b61577",
   "metadata": {},
   "outputs": [
    {
     "name": "stdout",
     "output_type": "stream",
     "text": [
      "[1, 2, 3, 4]\n"
     ]
    }
   ],
   "source": [
    "n = 1234\n",
    "digit = [int(x) for x in str(n)]\n",
    "print(digit)"
   ]
  },
  {
   "cell_type": "markdown",
   "id": "439014f8",
   "metadata": {},
   "source": [
    "## Centered Sum"
   ]
  },
  {
   "cell_type": "markdown",
   "id": "593c5659",
   "metadata": {},
   "source": [
    "Return the \"centered\" average of an array of ints, which we'll say is the mean average of the values, except ignoring the largest and smallest values in the array. If there are multiple copies of the smallest value, ignore just one copy, and likewise for the largest value. Use int division to produce the final average.\\\n",
    "You may assume that the array is length 3 or more.\n"
   ]
  },
  {
   "cell_type": "markdown",
   "id": "72b69da4",
   "metadata": {},
   "source": [
    "centered_average([1, 2, 3, 4, 100]) → 3\\\n",
    "centered_average([1, 1, 5, 5, 10, 8, 7]) → 5\\\n",
    "centered_average([-10, -4, -2, -4, -2, 0]) → -3"
   ]
  },
  {
   "cell_type": "markdown",
   "id": "340ed860",
   "metadata": {},
   "source": [
    "### Sorted"
   ]
  },
  {
   "cell_type": "code",
   "execution_count": 253,
   "id": "5ee6bab4",
   "metadata": {},
   "outputs": [
    {
     "name": "stdout",
     "output_type": "stream",
     "text": [
      "3.0\n",
      "5.2\n",
      "-3.0\n"
     ]
    }
   ],
   "source": [
    "def solution(nums):\n",
    "    sorted_list = sorted(nums)\n",
    "    return sum(sorted_list[1:-1])/(len(sorted_list)-2)## ignore largest and smallest\n",
    "\n",
    "print(solution([1, 2, 3, 4, 100]))\n",
    "print(solution([1, 1, 5, 5, 10, 8, 7]))\n",
    "print(solution([-10, -4, -2, -4, -2, 0]))"
   ]
  },
  {
   "cell_type": "markdown",
   "id": "8f1a3c12",
   "metadata": {},
   "source": [
    "### Unsorted"
   ]
  },
  {
   "cell_type": "code",
   "execution_count": 254,
   "id": "231bec2f",
   "metadata": {},
   "outputs": [
    {
     "name": "stdout",
     "output_type": "stream",
     "text": [
      "3.0\n",
      "5.2\n",
      "-3.0\n"
     ]
    }
   ],
   "source": [
    "def solution(nums): \n",
    "    max_value = nums[0]\n",
    "    min_value = nums[0]\n",
    "    sum = 0\n",
    "    for x in nums:\n",
    "        max_value = max(max_value, x)\n",
    "        min_value = min(min_value, x)\n",
    "        sum += x\n",
    "    return (sum-max_value-min_value)/(len(nums)-2)\n",
    "\n",
    "print(solution([1, 2, 3, 4, 100]))\n",
    "print(solution([1, 1, 5, 5, 10, 8, 7]))\n",
    "print(solution([-10, -4, -2, -4, -2, 0]))"
   ]
  },
  {
   "cell_type": "markdown",
   "id": "fd6c8f20",
   "metadata": {},
   "source": [
    "## Remove redundant data from a list"
   ]
  },
  {
   "cell_type": "code",
   "execution_count": 260,
   "id": "9342eea3",
   "metadata": {},
   "outputs": [
    {
     "name": "stdout",
     "output_type": "stream",
     "text": [
      "[1, 2, 4, 6, 7]\n"
     ]
    }
   ],
   "source": [
    "def solution(nums):\n",
    "    res = []\n",
    "    for i in nums:\n",
    "        if i not in res:\n",
    "            res.append(i)\n",
    "    return res\n",
    "\n",
    "print(solution([1,2,2,4,6,7]))"
   ]
  },
  {
   "cell_type": "markdown",
   "id": "6a3b320d",
   "metadata": {},
   "source": [
    "## Return the largest and smallest elements in a list "
   ]
  },
  {
   "cell_type": "code",
   "execution_count": 265,
   "id": "69d5ed71",
   "metadata": {},
   "outputs": [
    {
     "name": "stdout",
     "output_type": "stream",
     "text": [
      "8\n"
     ]
    }
   ],
   "source": [
    "def solution(n):\n",
    "    max_n = n[0] \n",
    "\n",
    "    for i in range(len(n)): \n",
    "        if n[i]>max_n:\n",
    "            max_n = n[i] \n",
    "    return(max_n) \n",
    "print(solution([1,2,8,4,6,7]))"
   ]
  },
  {
   "cell_type": "code",
   "execution_count": 264,
   "id": "ef0000a6",
   "metadata": {},
   "outputs": [
    {
     "name": "stdout",
     "output_type": "stream",
     "text": [
      "1\n"
     ]
    }
   ],
   "source": [
    "def solution(n):\n",
    "    min_n = n[0]\n",
    "    \n",
    "    for i in range(len(n)): \n",
    "        if n[i] < min_n:\n",
    "            min_n = n[i] \n",
    "    return(min_n) \n",
    "print(solution([1,2,8,4,6,7]))"
   ]
  },
  {
   "cell_type": "markdown",
   "id": "7b753d3c",
   "metadata": {},
   "source": [
    "## Replace None by previous value"
   ]
  },
  {
   "cell_type": "code",
   "execution_count": 268,
   "id": "81ee6150",
   "metadata": {},
   "outputs": [
    {
     "name": "stdout",
     "output_type": "stream",
     "text": [
      "[1, 1, 2, 2, 2, 3, 4]\n"
     ]
    }
   ],
   "source": [
    "def solution(nums):\n",
    "    res = []\n",
    "    valid = 0\n",
    "    for i in range(len(nums)):\n",
    "        if nums[i] is not None:\n",
    "            res.append(nums[i])\n",
    "            valid = i\n",
    "        else:\n",
    "            res.append(nums[valid])\n",
    "    return res\n",
    "    \n",
    "print(solution([1,None,2,None,None,3,4]))"
   ]
  },
  {
   "cell_type": "code",
   "execution_count": 271,
   "id": "a73f7770",
   "metadata": {},
   "outputs": [
    {
     "name": "stdout",
     "output_type": "stream",
     "text": [
      "[1, 1, 2, 2, 2, 3, 4]\n"
     ]
    }
   ],
   "source": [
    "def solution(nums):\n",
    "    for i in range(len(nums)):\n",
    "        if nums[i] is None:\n",
    "            nums[i] = nums[i-1]\n",
    "    return nums\n",
    "print(solution([1,None,2,None,None,3,4]))"
   ]
  },
  {
   "cell_type": "markdown",
   "id": "3ccb15f6",
   "metadata": {},
   "source": [
    "## Friends dic"
   ]
  },
  {
   "cell_type": "markdown",
   "id": "7cb4954a",
   "metadata": {},
   "source": [
    "Given a two dimensional list, for example [ [2,3],[3,4],[5]] person 2 is friends with 3 etc, find how many friends each person has. Note, one person has no friends"
   ]
  },
  {
   "cell_type": "code",
   "execution_count": 294,
   "id": "dc680fa0",
   "metadata": {},
   "outputs": [
    {
     "name": "stdout",
     "output_type": "stream",
     "text": [
      "{2: 1, 3: 2, 4: 1, 5: 0}\n"
     ]
    }
   ],
   "source": [
    "def solution(lst): \n",
    "    dct = {} \n",
    "    for element1 in lst:  \n",
    "        for element2 in element1:\n",
    "            if len(element1) != 1: \n",
    "                dct[element2] = dct.get(element2,0) + 1 \n",
    "            else: dct[element2] = 0 \n",
    "    return dct\n",
    "\n",
    "print(solution([[2,3],[3,4],[5]]))"
   ]
  },
  {
   "cell_type": "markdown",
   "id": "be2f13f7",
   "metadata": {},
   "source": [
    "# Apple"
   ]
  },
  {
   "cell_type": "markdown",
   "id": "8c4278b3",
   "metadata": {},
   "source": [
    "## Array Partition"
   ]
  },
  {
   "cell_type": "code",
   "execution_count": null,
   "id": "f085695b",
   "metadata": {},
   "outputs": [],
   "source": [
    "Input: 1 4 2 5\n",
    "Output: 2\n",
    "Explanation: If 2 is the partition, subarrays are : {1, 4} and {5}\n",
    "\n",
    "Input: 2 3 4 1 4 5\n",
    "Output: 1\n",
    "Explanation: If 1 is the partition, \n",
    "Subarrays are : {2, 3, 4} and {4, 5}"
   ]
  },
  {
   "cell_type": "markdown",
   "id": "88e333d8",
   "metadata": {},
   "source": [
    "Python 3 Program to find an element such that sum of right side element is equal to sum of left side"
   ]
  },
  {
   "cell_type": "code",
   "execution_count": 204,
   "id": "de7e87d6",
   "metadata": {},
   "outputs": [
    {
     "name": "stdout",
     "output_type": "stream",
     "text": [
      "1\n"
     ]
    }
   ],
   "source": [
    "# Function to compute partition\n",
    "def findElement(arr) :\n",
    "    size = len(arr)\n",
    "    right_sum, left_sum = 0, 0\n",
    "    # Computing right_sum\n",
    "    for i in range(1, size) :\n",
    "        right_sum += arr[i]\n",
    "\n",
    "    i, j = 0, 1\n",
    "\n",
    "    # Checking the point of partition i.e. left_Sum == right_sum\n",
    "    while j < size :\n",
    "        right_sum -= arr[j]\n",
    "        left_sum += arr[i]\n",
    "\n",
    "        if left_sum == right_sum :\n",
    "            return arr[i + 1]\n",
    "\n",
    "        j += 1\n",
    "        i += 1\n",
    "    return -1\n",
    "\n",
    "arr = [ 2, 3, 4, 1, 4, 5]\n",
    "print(findElement(arr))"
   ]
  },
  {
   "cell_type": "markdown",
   "id": "a1bd472c",
   "metadata": {},
   "source": [
    "## String Reverse"
   ]
  },
  {
   "cell_type": "markdown",
   "id": "a7e670df",
   "metadata": {},
   "source": [
    "Given an input string which contains characters and digits.Output the reversed input string but keep the original order of digits\n"
   ]
  },
  {
   "cell_type": "code",
   "execution_count": 18,
   "id": "3275bf07",
   "metadata": {},
   "outputs": [
    {
     "name": "stdout",
     "output_type": "stream",
     "text": [
      "cba_c54tseb_123_elppA\n"
     ]
    }
   ],
   "source": [
    "def solution(string):\n",
    "    s = str(string)\n",
    "    res = []\n",
    "    ls = s.split('_')\n",
    "    for i in range(len(ls)):\n",
    "        if ls[i].isdigit():\n",
    "            res.append(ls[i])\n",
    "        else:\n",
    "            res.append(ls[i][::-1])\n",
    "    return '_'.join(res[::-1])\n",
    "\n",
    "s = 'Apple_123_best45c_abc'    \n",
    "print(solution(s))"
   ]
  },
  {
   "cell_type": "code",
   "execution_count": null,
   "id": "fe5f8bc6",
   "metadata": {},
   "outputs": [],
   "source": []
  }
 ],
 "metadata": {
  "kernelspec": {
   "display_name": "Python 3.8.5",
   "language": "python",
   "name": "python3"
  },
  "language_info": {
   "codemirror_mode": {
    "name": "ipython",
    "version": 3
   },
   "file_extension": ".py",
   "mimetype": "text/x-python",
   "name": "python",
   "nbconvert_exporter": "python",
   "pygments_lexer": "ipython3",
   "version": "3.8.5"
  },
  "toc": {
   "base_numbering": 1,
   "nav_menu": {
    "height": "404px",
    "width": "456px"
   },
   "number_sections": true,
   "sideBar": true,
   "skip_h1_title": false,
   "title_cell": "Table of Contents",
   "title_sidebar": "Contents",
   "toc_cell": false,
   "toc_position": {
    "height": "calc(100% - 180px)",
    "left": "10px",
    "top": "150px",
    "width": "272px"
   },
   "toc_section_display": true,
   "toc_window_display": true
  },
  "vscode": {
   "interpreter": {
    "hash": "40d3a090f54c6569ab1632332b64b2c03c39dcf918b08424e98f38b5ae0af88f"
   }
  }
 },
 "nbformat": 4,
 "nbformat_minor": 5
}
